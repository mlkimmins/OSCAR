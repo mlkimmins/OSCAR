{
 "cells": [
  {
   "cell_type": "code",
   "execution_count": 4,
   "id": "6f6c11bb",
   "metadata": {},
   "outputs": [
    {
     "ename": "ModuleNotFoundError",
     "evalue": "No module named 'datasets'",
     "output_type": "error",
     "traceback": [
      "\u001b[1;31m---------------------------------------------------------------------------\u001b[0m",
      "\u001b[1;31mModuleNotFoundError\u001b[0m                       Traceback (most recent call last)",
      "Cell \u001b[1;32mIn[4], line 1\u001b[0m\n\u001b[1;32m----> 1\u001b[0m \u001b[38;5;28;01mfrom\u001b[39;00m \u001b[38;5;21;01mdatasets\u001b[39;00m \u001b[38;5;28;01mimport\u001b[39;00m load_dataset, load_metric\n",
      "\u001b[1;31mModuleNotFoundError\u001b[0m: No module named 'datasets'"
     ]
    }
   ],
   "source": [
    "from datasets import load_dataset, load_metric"
   ]
  },
  {
   "cell_type": "markdown",
   "id": "b1a14cc5",
   "metadata": {},
   "source": [
    "### Load dataset"
   ]
  },
  {
   "cell_type": "code",
   "execution_count": 3,
   "id": "97087531",
   "metadata": {
    "scrolled": true
   },
   "outputs": [
    {
     "name": "stdout",
     "output_type": "stream",
     "text": [
      "Downloading and preparing dataset scientific_papers/pubmed to /home/u_61485201/.cache/huggingface/datasets/scientific_papers/pubmed/1.1.1/306757013fb6f37089b6a75469e6638a553bd9f009484938d8f75a4c5e84206f...\n"
     ]
    },
    {
     "name": "stderr",
     "output_type": "stream",
     "text": [
      "Downloading data files:   0%|          | 0/2 [00:00<?, ?it/s]\n",
      "Downloading data:   0%|          | 0.00/3.62G [00:00<?, ?B/s]\u001b[A\n",
      "Downloading data:   0%|          | 8.73M/3.62G [00:00<00:41, 87.3MB/s]\u001b[A\n",
      "Downloading data:   1%|          | 23.3M/3.62G [00:00<00:29, 122MB/s] \u001b[A\n",
      "Downloading data:   1%|          | 35.5M/3.62G [00:00<00:29, 120MB/s]\u001b[A\n",
      "Downloading data:   1%|▏         | 47.5M/3.62G [00:00<00:31, 113MB/s]\u001b[A\n",
      "Downloading data:   2%|▏         | 60.4M/3.62G [00:00<00:30, 118MB/s]\u001b[A\n",
      "Downloading data:   2%|▏         | 72.3M/3.62G [00:00<00:32, 110MB/s]\u001b[A\n",
      "Downloading data:   2%|▏         | 83.4M/3.62G [00:00<00:35, 99.1MB/s]\u001b[A\n",
      "Downloading data:   3%|▎         | 96.5M/3.62G [00:00<00:32, 108MB/s] \u001b[A\n",
      "Downloading data:   3%|▎         | 108M/3.62G [00:00<00:33, 106MB/s] \u001b[A\n",
      "Downloading data:   3%|▎         | 118M/3.62G [00:01<00:33, 104MB/s]\u001b[A\n",
      "Downloading data:   4%|▎         | 129M/3.62G [00:01<00:38, 91.8MB/s]\u001b[A\n",
      "Downloading data:   4%|▍         | 141M/3.62G [00:01<00:34, 99.7MB/s]\u001b[A\n",
      "Downloading data:   4%|▍         | 153M/3.62G [00:01<00:32, 105MB/s] \u001b[A\n",
      "Downloading data:   5%|▍         | 164M/3.62G [00:01<00:35, 97.2MB/s]\u001b[A\n",
      "Downloading data:   5%|▍         | 175M/3.62G [00:01<00:34, 99.7MB/s]\u001b[A\n",
      "Downloading data:   5%|▌         | 186M/3.62G [00:01<00:32, 105MB/s] \u001b[A\n",
      "Downloading data:   5%|▌         | 197M/3.62G [00:01<00:33, 103MB/s]\u001b[A\n",
      "Downloading data:   6%|▌         | 207M/3.62G [00:02<00:36, 94.6MB/s]\u001b[A\n",
      "Downloading data:   6%|▌         | 220M/3.62G [00:02<00:33, 102MB/s] \u001b[A\n",
      "Downloading data:   6%|▋         | 230M/3.62G [00:02<00:32, 104MB/s]\u001b[A\n",
      "Downloading data:   7%|▋         | 241M/3.62G [00:02<00:33, 101MB/s]\u001b[A\n",
      "Downloading data:   7%|▋         | 251M/3.62G [00:02<00:33, 102MB/s]\u001b[A\n",
      "Downloading data:   7%|▋         | 262M/3.62G [00:02<00:33, 100MB/s]\u001b[A\n",
      "Downloading data:   8%|▊         | 272M/3.62G [00:02<00:33, 101MB/s]\u001b[A\n",
      "Downloading data:   8%|▊         | 282M/3.62G [00:02<00:33, 101MB/s]\u001b[A\n",
      "Downloading data:   8%|▊         | 292M/3.62G [00:02<00:42, 78.6MB/s]\u001b[A\n",
      "Downloading data:   8%|▊         | 307M/3.62G [00:03<00:34, 95.6MB/s]\u001b[A\n",
      "Downloading data:   9%|▉         | 322M/3.62G [00:03<00:30, 109MB/s] \u001b[A\n",
      "Downloading data:   9%|▉         | 334M/3.62G [00:03<00:30, 107MB/s]\u001b[A\n",
      "Downloading data:  10%|▉         | 345M/3.62G [00:03<00:32, 100MB/s]\u001b[A\n",
      "Downloading data:  10%|▉         | 357M/3.62G [00:03<00:31, 104MB/s]\u001b[A\n",
      "Downloading data:  10%|█         | 367M/3.62G [00:03<00:31, 103MB/s]\u001b[A\n",
      "Downloading data:  10%|█         | 378M/3.62G [00:03<00:34, 93.3MB/s]\u001b[A\n",
      "Downloading data:  11%|█         | 390M/3.62G [00:03<00:32, 99.5MB/s]\u001b[A\n",
      "Downloading data:  11%|█         | 402M/3.62G [00:03<00:30, 105MB/s] \u001b[A\n",
      "Downloading data:  11%|█▏        | 412M/3.62G [00:04<00:31, 103MB/s]\u001b[A\n",
      "Downloading data:  12%|█▏        | 423M/3.62G [00:04<00:31, 102MB/s]\u001b[A\n",
      "Downloading data:  12%|█▏        | 433M/3.62G [00:04<00:31, 100MB/s]\u001b[A\n",
      "Downloading data:  12%|█▏        | 444M/3.62G [00:04<00:31, 102MB/s]\u001b[A\n",
      "Downloading data:  13%|█▎        | 454M/3.62G [00:04<00:31, 101MB/s]\u001b[A\n",
      "Downloading data:  13%|█▎        | 464M/3.62G [00:04<00:31, 99.7MB/s]\u001b[A\n",
      "Downloading data:  13%|█▎        | 474M/3.62G [00:04<00:35, 89.8MB/s]\u001b[A\n",
      "Downloading data:  13%|█▎        | 486M/3.62G [00:04<00:31, 98.4MB/s]\u001b[A\n",
      "Downloading data:  14%|█▎        | 498M/3.62G [00:04<00:31, 98.1MB/s]\u001b[A\n",
      "Downloading data:  14%|█▍        | 508M/3.62G [00:05<00:31, 99.4MB/s]\u001b[A\n",
      "Downloading data:  14%|█▍        | 521M/3.62G [00:05<00:29, 106MB/s] \u001b[A\n",
      "Downloading data:  15%|█▍        | 531M/3.62G [00:05<00:29, 104MB/s]\u001b[A\n",
      "Downloading data:  15%|█▍        | 542M/3.62G [00:05<00:30, 103MB/s]\u001b[A\n",
      "Downloading data:  15%|█▌        | 552M/3.62G [00:05<00:30, 102MB/s]\u001b[A\n",
      "Downloading data:  16%|█▌        | 562M/3.62G [00:05<00:30, 101MB/s]\u001b[A\n",
      "Downloading data:  16%|█▌        | 573M/3.62G [00:05<00:30, 101MB/s]\u001b[A\n",
      "Downloading data:  16%|█▌        | 583M/3.62G [00:05<00:30, 101MB/s]\u001b[A\n",
      "Downloading data:  16%|█▋        | 593M/3.62G [00:05<00:30, 101MB/s]\u001b[A\n",
      "Downloading data:  17%|█▋        | 603M/3.62G [00:06<00:35, 85.2MB/s]\u001b[A\n",
      "Downloading data:  17%|█▋        | 615M/3.62G [00:06<00:31, 95.2MB/s]\u001b[A\n",
      "Downloading data:  17%|█▋        | 625M/3.62G [00:06<00:31, 95.0MB/s]\u001b[A\n",
      "Downloading data:  18%|█▊        | 636M/3.62G [00:06<00:31, 94.8MB/s]\u001b[A\n",
      "Downloading data:  18%|█▊        | 651M/3.62G [00:06<00:27, 110MB/s] \u001b[A\n",
      "Downloading data:  18%|█▊        | 662M/3.62G [00:06<00:39, 75.7MB/s]\u001b[A\n",
      "Downloading data:  19%|█▊        | 674M/3.62G [00:06<00:34, 86.4MB/s]\u001b[A\n",
      "Downloading data:  19%|█▉        | 687M/3.62G [00:06<00:30, 95.1MB/s]\u001b[A\n",
      "Downloading data:  19%|█▉        | 699M/3.62G [00:06<00:28, 101MB/s] \u001b[A\n",
      "Downloading data:  20%|█▉        | 711M/3.62G [00:07<00:27, 108MB/s]\u001b[A\n",
      "Downloading data:  20%|█▉        | 724M/3.62G [00:07<00:25, 113MB/s]\u001b[A\n",
      "Downloading data:  20%|██        | 736M/3.62G [00:07<00:24, 116MB/s]\u001b[A\n",
      "Downloading data:  21%|██        | 748M/3.62G [00:07<00:26, 109MB/s]\u001b[A\n",
      "Downloading data:  21%|██        | 760M/3.62G [00:07<00:28, 101MB/s]\u001b[A\n",
      "Downloading data:  21%|██▏       | 773M/3.62G [00:07<00:26, 109MB/s]\u001b[A\n",
      "Downloading data:  22%|██▏       | 784M/3.62G [00:07<00:30, 92.5MB/s]\u001b[A\n",
      "Downloading data:  22%|██▏       | 794M/3.62G [00:07<00:33, 83.3MB/s]\u001b[A\n",
      "Downloading data:  22%|██▏       | 807M/3.62G [00:08<00:29, 94.3MB/s]\u001b[A\n",
      "Downloading data:  23%|██▎       | 817M/3.62G [00:08<00:31, 87.8MB/s]\u001b[A\n",
      "Downloading data:  23%|██▎       | 826M/3.62G [00:08<00:51, 54.2MB/s]\u001b[A\n",
      "Downloading data:  23%|██▎       | 839M/3.62G [00:08<00:41, 67.5MB/s]\u001b[A\n",
      "Downloading data:  23%|██▎       | 848M/3.62G [00:08<00:40, 69.3MB/s]\u001b[A\n",
      "Downloading data:  24%|██▎       | 859M/3.62G [00:08<00:41, 67.0MB/s]\u001b[A\n",
      "Downloading data:  24%|██▍       | 871M/3.62G [00:09<00:34, 78.9MB/s]\u001b[A\n",
      "Downloading data:  24%|██▍       | 881M/3.62G [00:09<00:35, 76.4MB/s]\u001b[A\n",
      "Downloading data:  25%|██▍       | 893M/3.62G [00:09<00:35, 76.7MB/s]\u001b[A\n",
      "Downloading data:  25%|██▍       | 906M/3.62G [00:09<00:30, 88.0MB/s]\u001b[A\n",
      "Downloading data:  25%|██▌       | 919M/3.62G [00:09<00:27, 99.3MB/s]\u001b[A\n",
      "Downloading data:  26%|██▌       | 930M/3.62G [00:09<00:30, 88.2MB/s]\u001b[A\n",
      "Downloading data:  26%|██▌       | 945M/3.62G [00:09<00:28, 93.5MB/s]\u001b[A\n",
      "Downloading data:  26%|██▋       | 957M/3.62G [00:09<00:26, 100MB/s] \u001b[A\n",
      "Downloading data:  27%|██▋       | 968M/3.62G [00:10<00:31, 83.8MB/s]\u001b[A\n",
      "Downloading data:  27%|██▋       | 979M/3.62G [00:10<00:31, 84.5MB/s]\u001b[A\n",
      "Downloading data:  27%|██▋       | 991M/3.62G [00:10<00:28, 92.0MB/s]\u001b[A\n",
      "Downloading data:  28%|██▊       | 1.00G/3.62G [00:10<00:26, 97.2MB/s]\u001b[A\n",
      "Downloading data:  28%|██▊       | 1.01G/3.62G [00:10<00:31, 84.0MB/s]\u001b[A\n",
      "Downloading data:  28%|██▊       | 1.02G/3.62G [00:10<00:33, 76.6MB/s]\u001b[A\n",
      "Downloading data:  28%|██▊       | 1.03G/3.62G [00:10<00:40, 64.2MB/s]\u001b[A\n",
      "Downloading data:  29%|██▉       | 1.04G/3.62G [00:11<00:33, 77.0MB/s]\u001b[A\n",
      "Downloading data:  29%|██▉       | 1.05G/3.62G [00:11<00:57, 44.6MB/s]\u001b[A\n",
      "Downloading data:  29%|██▉       | 1.06G/3.62G [00:11<00:44, 57.4MB/s]\u001b[A\n",
      "Downloading data:  30%|██▉       | 1.08G/3.62G [00:11<00:37, 68.5MB/s]\u001b[A\n",
      "Downloading data:  30%|██▉       | 1.09G/3.62G [00:11<00:38, 65.4MB/s]\u001b[A\n",
      "Downloading data:  30%|███       | 1.10G/3.62G [00:12<00:33, 74.3MB/s]\u001b[A\n",
      "Downloading data:  31%|███       | 1.11G/3.62G [00:12<00:40, 62.3MB/s]\u001b[A\n",
      "Downloading data:  31%|███       | 1.12G/3.62G [00:12<00:40, 61.6MB/s]\u001b[A\n",
      "Downloading data:  31%|███       | 1.13G/3.62G [00:12<00:31, 80.4MB/s]\u001b[A\n",
      "Downloading data:  31%|███▏      | 1.14G/3.62G [00:12<00:34, 72.7MB/s]\u001b[A\n",
      "Downloading data:  32%|███▏      | 1.15G/3.62G [00:12<00:35, 70.1MB/s]\u001b[A\n",
      "Downloading data:  32%|███▏      | 1.16G/3.62G [00:12<00:29, 82.9MB/s]\u001b[A\n",
      "Downloading data:  32%|███▏      | 1.17G/3.62G [00:12<00:28, 86.2MB/s]\u001b[A\n",
      "Downloading data:  33%|███▎      | 1.19G/3.62G [00:13<00:29, 82.0MB/s]\u001b[A\n",
      "Downloading data:  33%|███▎      | 1.20G/3.62G [00:13<00:25, 94.3MB/s]\u001b[A\n",
      "Downloading data:  33%|███▎      | 1.21G/3.62G [00:13<00:33, 72.2MB/s]\u001b[A\n",
      "Downloading data:  34%|███▎      | 1.22G/3.62G [00:13<00:32, 75.0MB/s]\u001b[A\n",
      "Downloading data:  34%|███▍      | 1.23G/3.62G [00:13<00:27, 86.7MB/s]\u001b[A\n",
      "Downloading data:  34%|███▍      | 1.24G/3.62G [00:13<00:30, 79.3MB/s]\u001b[A\n",
      "Downloading data:  35%|███▍      | 1.25G/3.62G [00:13<00:27, 84.8MB/s]\u001b[A\n",
      "Downloading data:  35%|███▌      | 1.27G/3.62G [00:14<00:26, 88.4MB/s]\u001b[A\n",
      "Downloading data:  35%|███▌      | 1.28G/3.62G [00:14<00:34, 68.5MB/s]\u001b[A\n",
      "Downloading data:  36%|███▌      | 1.29G/3.62G [00:14<00:35, 66.5MB/s]\u001b[A\n",
      "Downloading data:  36%|███▌      | 1.30G/3.62G [00:14<00:27, 84.6MB/s]\u001b[A\n",
      "Downloading data:  36%|███▌      | 1.31G/3.62G [00:14<00:32, 70.0MB/s]\u001b[A\n",
      "Downloading data:  36%|███▋      | 1.32G/3.62G [00:14<00:32, 70.4MB/s]\u001b[A\n",
      "Downloading data:  37%|███▋      | 1.34G/3.62G [00:15<00:27, 82.7MB/s]\u001b[A\n",
      "Downloading data:  37%|███▋      | 1.34G/3.62G [00:15<00:31, 71.3MB/s]\u001b[A\n",
      "Downloading data:  37%|███▋      | 1.36G/3.62G [00:15<00:33, 67.3MB/s]\u001b[A\n",
      "Downloading data:  38%|███▊      | 1.37G/3.62G [00:15<00:31, 72.5MB/s]\u001b[A\n",
      "Downloading data:  38%|███▊      | 1.37G/3.62G [00:15<00:39, 57.0MB/s]\u001b[A\n",
      "Downloading data:  38%|███▊      | 1.39G/3.62G [00:15<00:29, 76.0MB/s]\u001b[A\n",
      "Downloading data:  39%|███▊      | 1.40G/3.62G [00:16<00:32, 67.6MB/s]\u001b[A\n",
      "Downloading data:  39%|███▉      | 1.41G/3.62G [00:16<00:37, 58.6MB/s]\u001b[A\n",
      "Downloading data:  39%|███▉      | 1.42G/3.62G [00:16<00:31, 70.9MB/s]\u001b[A\n",
      "Downloading data:  39%|███▉      | 1.43G/3.62G [00:16<00:31, 68.9MB/s]\u001b[A\n",
      "Downloading data:  40%|███▉      | 1.44G/3.62G [00:16<00:26, 82.3MB/s]\u001b[A\n",
      "Downloading data:  40%|████      | 1.45G/3.62G [00:16<00:30, 70.4MB/s]\u001b[A\n",
      "Downloading data:  40%|████      | 1.46G/3.62G [00:16<00:31, 69.1MB/s]\u001b[A\n",
      "Downloading data:  41%|████      | 1.47G/3.62G [00:17<00:27, 79.6MB/s]\u001b[A\n",
      "Downloading data:  41%|████      | 1.48G/3.62G [00:17<00:34, 62.1MB/s]\u001b[A\n",
      "Downloading data:  41%|████      | 1.49G/3.62G [00:17<00:28, 73.8MB/s]\u001b[A\n",
      "Downloading data:  41%|████▏     | 1.50G/3.62G [00:17<00:32, 64.4MB/s]\u001b[A\n",
      "Downloading data:  42%|████▏     | 1.51G/3.62G [00:17<00:31, 66.7MB/s]\u001b[A\n",
      "Downloading data:  42%|████▏     | 1.52G/3.62G [00:17<00:32, 65.0MB/s]\u001b[A\n",
      "Downloading data:  42%|████▏     | 1.53G/3.62G [00:17<00:30, 69.2MB/s]\u001b[A\n",
      "Downloading data:  43%|████▎     | 1.54G/3.62G [00:18<00:25, 83.1MB/s]\u001b[A\n",
      "Downloading data:  43%|████▎     | 1.55G/3.62G [00:18<00:30, 68.5MB/s]\u001b[A\n",
      "Downloading data:  43%|████▎     | 1.56G/3.62G [00:18<00:26, 76.8MB/s]\u001b[A\n",
      "Downloading data:  43%|████▎     | 1.57G/3.62G [00:18<00:23, 85.7MB/s]\u001b[A\n",
      "Downloading data:  44%|████▎     | 1.59G/3.62G [00:18<00:22, 91.0MB/s]\u001b[A\n",
      "Downloading data:  44%|████▍     | 1.60G/3.62G [00:18<00:22, 91.7MB/s]\u001b[A\n",
      "Downloading data:  44%|████▍     | 1.61G/3.62G [00:18<00:25, 79.1MB/s]\u001b[A\n",
      "Downloading data:  45%|████▍     | 1.61G/3.62G [00:19<00:28, 71.0MB/s]\u001b[A\n",
      "Downloading data:  45%|████▍     | 1.63G/3.62G [00:19<00:24, 80.9MB/s]\u001b[A\n",
      "Downloading data:  45%|████▌     | 1.63G/3.62G [00:19<00:30, 66.1MB/s]\u001b[A\n",
      "Downloading data:  45%|████▌     | 1.65G/3.62G [00:19<00:24, 80.0MB/s]\u001b[A\n",
      "Downloading data:  46%|████▌     | 1.66G/3.62G [00:19<00:29, 67.2MB/s]\u001b[A\n",
      "Downloading data:  46%|████▌     | 1.66G/3.62G [00:19<00:41, 47.0MB/s]\u001b[A\n",
      "Downloading data:  46%|████▌     | 1.67G/3.62G [00:20<00:53, 36.4MB/s]\u001b[A\n",
      "Downloading data:  46%|████▋     | 1.68G/3.62G [00:20<00:40, 47.9MB/s]\u001b[A\n",
      "Downloading data:  47%|████▋     | 1.69G/3.62G [00:20<00:43, 44.2MB/s]\u001b[A\n",
      "Downloading data:  47%|████▋     | 1.70G/3.62G [00:20<00:35, 54.5MB/s]\u001b[A\n",
      "Downloading data:  47%|████▋     | 1.71G/3.62G [00:20<00:27, 70.1MB/s]\u001b[A\n",
      "Downloading data:  48%|████▊     | 1.72G/3.62G [00:20<00:27, 69.9MB/s]\u001b[A\n",
      "Downloading data:  48%|████▊     | 1.74G/3.62G [00:21<00:24, 76.8MB/s]\u001b[A\n",
      "Downloading data:  48%|████▊     | 1.74G/3.62G [00:21<00:26, 71.8MB/s]\u001b[A\n",
      "Downloading data:  48%|████▊     | 1.75G/3.62G [00:21<00:27, 68.3MB/s]\u001b[A\n",
      "Downloading data:  49%|████▊     | 1.76G/3.62G [00:21<00:30, 60.3MB/s]\u001b[A\n",
      "Downloading data:  49%|████▉     | 1.77G/3.62G [00:21<00:26, 70.1MB/s]\u001b[A\n",
      "Downloading data:  49%|████▉     | 1.78G/3.62G [00:21<00:29, 63.6MB/s]\u001b[A\n",
      "Downloading data:  49%|████▉     | 1.79G/3.62G [00:21<00:26, 70.3MB/s]\u001b[A\n",
      "Downloading data:  50%|████▉     | 1.80G/3.62G [00:21<00:23, 76.5MB/s]\u001b[A\n",
      "Downloading data:  50%|████▉     | 1.80G/3.62G [00:22<00:35, 50.7MB/s]\u001b[A\n",
      "Downloading data:  50%|█████     | 1.82G/3.62G [00:22<00:27, 65.9MB/s]\u001b[A\n",
      "Downloading data:  50%|█████     | 1.83G/3.62G [00:22<00:35, 50.1MB/s]\u001b[A\n",
      "Downloading data:  51%|█████     | 1.83G/3.62G [00:22<00:37, 47.9MB/s]\u001b[A\n",
      "Downloading data:  51%|█████     | 1.84G/3.62G [00:22<00:37, 47.4MB/s]\u001b[A\n",
      "Downloading data:  51%|█████     | 1.84G/3.62G [00:23<00:45, 39.2MB/s]\u001b[A\n",
      "Downloading data:  51%|█████     | 1.85G/3.62G [00:23<00:37, 47.8MB/s]\u001b[A\n",
      "Downloading data:  51%|█████▏    | 1.86G/3.62G [00:23<00:44, 39.3MB/s]\u001b[A\n",
      "Downloading data:  52%|█████▏    | 1.87G/3.62G [00:23<00:31, 56.1MB/s]\u001b[A\n",
      "Downloading data:  52%|█████▏    | 1.88G/3.62G [00:23<00:32, 53.0MB/s]\u001b[A\n",
      "Downloading data:  52%|█████▏    | 1.89G/3.62G [00:23<00:30, 57.7MB/s]\u001b[A\n",
      "Downloading data:  53%|█████▎    | 1.91G/3.62G [00:23<00:22, 76.3MB/s]\u001b[A\n",
      "Downloading data:  53%|█████▎    | 1.91G/3.62G [00:24<00:27, 62.5MB/s]\u001b[A\n",
      "Downloading data:  53%|█████▎    | 1.92G/3.62G [00:24<00:26, 63.6MB/s]\u001b[A\n",
      "Downloading data:  53%|█████▎    | 1.94G/3.62G [00:24<00:22, 74.8MB/s]\u001b[A\n",
      "Downloading data:  54%|█████▎    | 1.94G/3.62G [00:24<00:27, 61.8MB/s]\u001b[A\n",
      "Downloading data:  54%|█████▍    | 1.95G/3.62G [00:24<00:28, 58.5MB/s]\u001b[A\n",
      "Downloading data:  54%|█████▍    | 1.96G/3.62G [00:25<00:33, 49.3MB/s]\u001b[A\n",
      "Downloading data:  54%|█████▍    | 1.97G/3.62G [00:25<00:26, 62.4MB/s]\u001b[A\n",
      "Downloading data:  55%|█████▍    | 1.98G/3.62G [00:25<00:26, 61.0MB/s]\u001b[A\n",
      "Downloading data:  55%|█████▍    | 1.99G/3.62G [00:25<00:21, 76.4MB/s]\u001b[A\n",
      "Downloading data:  55%|█████▌    | 2.00G/3.62G [00:25<00:25, 63.6MB/s]\u001b[A\n",
      "Downloading data:  55%|█████▌    | 2.01G/3.62G [00:25<00:23, 69.7MB/s]\u001b[A\n",
      "Downloading data:  56%|█████▌    | 2.02G/3.62G [00:25<00:28, 55.9MB/s]\u001b[A\n",
      "Downloading data:  56%|█████▌    | 2.03G/3.62G [00:26<00:27, 57.0MB/s]\u001b[A\n",
      "Downloading data:  56%|█████▌    | 2.03G/3.62G [00:26<00:33, 47.9MB/s]\u001b[A\n",
      "Downloading data:  56%|█████▋    | 2.04G/3.62G [00:26<00:27, 56.9MB/s]\u001b[A\n",
      "Downloading data:  57%|█████▋    | 2.05G/3.62G [00:26<00:31, 50.4MB/s]\u001b[A\n",
      "Downloading data:  57%|█████▋    | 2.06G/3.62G [00:26<00:27, 57.5MB/s]\u001b[A\n",
      "Downloading data:  57%|█████▋    | 2.07G/3.62G [00:26<00:31, 49.0MB/s]\u001b[A\n",
      "Downloading data:  57%|█████▋    | 2.08G/3.62G [00:27<00:26, 57.4MB/s]\u001b[A\n",
      "Downloading data:  58%|█████▊    | 2.09G/3.62G [00:27<00:21, 72.2MB/s]\u001b[A\n",
      "Downloading data:  58%|█████▊    | 2.10G/3.62G [00:27<00:25, 60.6MB/s]\u001b[A\n",
      "Downloading data:  58%|█████▊    | 2.11G/3.62G [00:27<00:19, 75.7MB/s]\u001b[A\n",
      "Downloading data:  59%|█████▊    | 2.12G/3.62G [00:27<00:18, 81.9MB/s]\u001b[A\n",
      "Downloading data:  59%|█████▉    | 2.13G/3.62G [00:27<00:25, 59.1MB/s]\u001b[A\n",
      "Downloading data:  59%|█████▉    | 2.15G/3.62G [00:27<00:19, 75.3MB/s]\u001b[A\n",
      "Downloading data:  59%|█████▉    | 2.16G/3.62G [00:28<00:22, 64.7MB/s]\u001b[A\n",
      "Downloading data:  60%|█████▉    | 2.16G/3.62G [00:28<00:21, 66.9MB/s]\u001b[A\n",
      "Downloading data:  60%|█████▉    | 2.17G/3.62G [00:28<00:28, 51.4MB/s]\u001b[A\n",
      "Downloading data:  60%|██████    | 2.18G/3.62G [00:28<00:25, 57.6MB/s]\u001b[A\n",
      "Downloading data:  60%|██████    | 2.19G/3.62G [00:28<00:22, 62.4MB/s]\u001b[A\n",
      "Downloading data:  61%|██████    | 2.20G/3.62G [00:29<00:38, 37.2MB/s]\u001b[A\n",
      "Downloading data:  61%|██████    | 2.20G/3.62G [00:29<00:54, 26.2MB/s]\u001b[A\n",
      "Downloading data:  61%|██████    | 2.21G/3.62G [00:29<00:37, 37.9MB/s]\u001b[A\n",
      "Downloading data:  61%|██████▏   | 2.22G/3.62G [00:29<00:37, 37.8MB/s]\u001b[A\n",
      "Downloading data:  62%|██████▏   | 2.23G/3.62G [00:29<00:28, 48.8MB/s]\u001b[A\n",
      "Downloading data:  62%|██████▏   | 2.24G/3.62G [00:30<00:30, 44.8MB/s]\u001b[A\n",
      "Downloading data:  62%|██████▏   | 2.25G/3.62G [00:30<00:27, 49.3MB/s]\u001b[A\n",
      "Downloading data:  62%|██████▏   | 2.26G/3.62G [00:30<00:32, 42.3MB/s]\u001b[A\n",
      "Downloading data:  63%|██████▎   | 2.27G/3.62G [00:30<00:25, 53.3MB/s]\u001b[A\n",
      "Downloading data:  63%|██████▎   | 2.27G/3.62G [00:30<00:33, 39.9MB/s]\u001b[A\n",
      "Downloading data:  63%|██████▎   | 2.28G/3.62G [00:31<00:28, 47.2MB/s]\u001b[A\n",
      "Downloading data:  63%|██████▎   | 2.29G/3.62G [00:31<00:28, 47.4MB/s]\u001b[A\n",
      "Downloading data:  64%|██████▎   | 2.30G/3.62G [00:31<00:23, 57.4MB/s]\u001b[A\n",
      "Downloading data:  64%|██████▎   | 2.31G/3.62G [00:31<00:21, 61.9MB/s]\u001b[A\n",
      "Downloading data:  64%|██████▍   | 2.32G/3.62G [00:31<00:23, 55.1MB/s]\u001b[A\n",
      "Downloading data:  64%|██████▍   | 2.33G/3.62G [00:31<00:18, 68.2MB/s]\u001b[A\n",
      "Downloading data:  65%|██████▍   | 2.34G/3.62G [00:31<00:20, 64.3MB/s]\u001b[A\n",
      "Downloading data:  65%|██████▍   | 2.35G/3.62G [00:32<00:17, 73.4MB/s]\u001b[A\n",
      "Downloading data:  65%|██████▌   | 2.37G/3.62G [00:32<00:13, 90.7MB/s]\u001b[A\n",
      "Downloading data:  66%|██████▌   | 2.38G/3.62G [00:32<00:15, 80.9MB/s]\u001b[A\n",
      "Downloading data:  66%|██████▌   | 2.39G/3.62G [00:32<00:15, 81.7MB/s]\u001b[A\n",
      "Downloading data:  66%|██████▌   | 2.40G/3.62G [00:32<00:17, 68.9MB/s]\u001b[A\n",
      "Downloading data:  66%|██████▋   | 2.41G/3.62G [00:32<00:19, 63.2MB/s]\u001b[A\n",
      "Downloading data:  67%|██████▋   | 2.42G/3.62G [00:32<00:14, 83.5MB/s]\u001b[A\n",
      "Downloading data:  67%|██████▋   | 2.43G/3.62G [00:33<00:16, 74.6MB/s]\u001b[A\n",
      "Downloading data:  67%|██████▋   | 2.44G/3.62G [00:33<00:16, 73.4MB/s]\u001b[A\n",
      "Downloading data:  68%|██████▊   | 2.45G/3.62G [00:33<00:18, 62.4MB/s]\u001b[A\n",
      "Downloading data:  68%|██████▊   | 2.45G/3.62G [00:33<00:18, 63.5MB/s]\u001b[A\n",
      "Downloading data:  68%|██████▊   | 2.46G/3.62G [00:33<00:26, 43.5MB/s]\u001b[A\n",
      "Downloading data:  68%|██████▊   | 2.47G/3.62G [00:33<00:19, 59.7MB/s]\u001b[A\n",
      "Downloading data:  68%|██████▊   | 2.48G/3.62G [00:34<00:19, 59.8MB/s]\u001b[A\n",
      "Downloading data:  69%|██████▊   | 2.49G/3.62G [00:34<00:21, 52.8MB/s]\u001b[A\n",
      "Downloading data:  69%|██████▉   | 2.50G/3.62G [00:34<00:26, 42.5MB/s]\u001b[A\n",
      "Downloading data:  69%|██████▉   | 2.51G/3.62G [00:34<00:20, 53.3MB/s]\u001b[A\n",
      "Downloading data:  70%|██████▉   | 2.52G/3.62G [00:34<00:16, 68.1MB/s]\u001b[A\n",
      "Downloading data:  70%|██████▉   | 2.53G/3.62G [00:34<00:18, 59.3MB/s]\u001b[A\n",
      "Downloading data:  70%|███████   | 2.54G/3.62G [00:35<00:17, 61.3MB/s]\u001b[A\n",
      "Downloading data:  70%|███████   | 2.55G/3.62G [00:35<00:19, 55.4MB/s]\u001b[A\n",
      "Downloading data:  71%|███████   | 2.56G/3.62G [00:35<00:17, 62.0MB/s]\u001b[A\n",
      "Downloading data:  71%|███████   | 2.57G/3.62G [00:35<00:13, 75.5MB/s]\u001b[A\n",
      "Downloading data:  71%|███████   | 2.58G/3.62G [00:35<00:14, 71.2MB/s]\u001b[A\n",
      "Downloading data:  71%|███████▏  | 2.59G/3.62G [00:35<00:13, 78.0MB/s]\u001b[A\n",
      "Downloading data:  72%|███████▏  | 2.60G/3.62G [00:35<00:14, 71.6MB/s]\u001b[A\n",
      "Downloading data:  72%|███████▏  | 2.61G/3.62G [00:36<00:13, 72.5MB/s]\u001b[A\n",
      "Downloading data:  72%|███████▏  | 2.63G/3.62G [00:36<00:10, 92.2MB/s]\u001b[A\n",
      "Downloading data:  73%|███████▎  | 2.64G/3.62G [00:36<00:13, 75.5MB/s]\u001b[A\n",
      "Downloading data:  73%|███████▎  | 2.65G/3.62G [00:36<00:13, 74.1MB/s]\u001b[A\n",
      "Downloading data:  73%|███████▎  | 2.66G/3.62G [00:36<00:11, 86.6MB/s]\u001b[A\n",
      "Downloading data:  74%|███████▎  | 2.67G/3.62G [00:36<00:12, 73.9MB/s]\u001b[A\n",
      "Downloading data:  74%|███████▍  | 2.68G/3.62G [00:36<00:11, 82.4MB/s]\u001b[A\n",
      "Downloading data:  74%|███████▍  | 2.69G/3.62G [00:36<00:12, 77.0MB/s]\u001b[A\n",
      "Downloading data:  74%|███████▍  | 2.70G/3.62G [00:37<00:11, 78.0MB/s]\u001b[A\n",
      "Downloading data:  75%|███████▍  | 2.71G/3.62G [00:37<00:11, 77.0MB/s]\u001b[A\n",
      "Downloading data:  75%|███████▍  | 2.71G/3.62G [00:37<00:12, 74.9MB/s]\u001b[A\n",
      "Downloading data:  75%|███████▌  | 2.72G/3.62G [00:37<00:14, 60.8MB/s]\u001b[A\n",
      "Downloading data:  75%|███████▌  | 2.73G/3.62G [00:37<00:14, 63.1MB/s]\u001b[A\n",
      "Downloading data:  76%|███████▌  | 2.74G/3.62G [00:37<00:11, 77.2MB/s]\u001b[A\n",
      "Downloading data:  76%|███████▌  | 2.75G/3.62G [00:37<00:10, 80.7MB/s]\u001b[A\n",
      "Downloading data:  76%|███████▋  | 2.76G/3.62G [00:37<00:09, 86.0MB/s]\u001b[A\n",
      "Downloading data:  77%|███████▋  | 2.77G/3.62G [00:38<00:14, 58.9MB/s]\u001b[A\n",
      "Downloading data:  77%|███████▋  | 2.78G/3.62G [00:38<00:13, 62.6MB/s]\u001b[A\n",
      "Downloading data:  77%|███████▋  | 2.80G/3.62G [00:38<00:10, 76.7MB/s]\u001b[A\n",
      "Downloading data:  77%|███████▋  | 2.80G/3.62G [00:38<00:11, 71.2MB/s]\u001b[A\n",
      "Downloading data:  78%|███████▊  | 2.82G/3.62G [00:38<00:11, 72.1MB/s]\u001b[A\n",
      "Downloading data:  78%|███████▊  | 2.82G/3.62G [00:39<00:15, 53.3MB/s]\u001b[A\n",
      "Downloading data:  78%|███████▊  | 2.83G/3.62G [00:39<00:13, 59.0MB/s]\u001b[A\n",
      "Downloading data:  79%|███████▊  | 2.85G/3.62G [00:39<00:10, 71.8MB/s]\u001b[A\n",
      "Downloading data:  79%|███████▉  | 2.86G/3.62G [00:39<00:11, 64.4MB/s]\u001b[A\n",
      "Downloading data:  79%|███████▉  | 2.87G/3.62G [00:39<00:09, 79.9MB/s]\u001b[A\n",
      "Downloading data:  79%|███████▉  | 2.88G/3.62G [00:39<00:10, 73.8MB/s]\u001b[A\n",
      "Downloading data:  80%|███████▉  | 2.89G/3.62G [00:39<00:10, 70.6MB/s]\u001b[A\n",
      "Downloading data:  80%|███████▉  | 2.90G/3.62G [00:39<00:08, 81.8MB/s]\u001b[A\n",
      "Downloading data:  80%|████████  | 2.91G/3.62G [00:40<00:09, 79.0MB/s]\u001b[A\n",
      "Downloading data:  81%|████████  | 2.92G/3.62G [00:40<00:07, 92.0MB/s]\u001b[A\n",
      "Downloading data:  81%|████████  | 2.93G/3.62G [00:40<00:09, 76.3MB/s]\u001b[A\n",
      "Downloading data:  81%|████████  | 2.94G/3.62G [00:40<00:12, 54.1MB/s]\u001b[A\n",
      "Downloading data:  81%|████████▏ | 2.95G/3.62G [00:40<00:09, 67.8MB/s]\u001b[A\n",
      "Downloading data:  82%|████████▏ | 2.96G/3.62G [00:41<00:12, 52.4MB/s]\u001b[A\n",
      "Downloading data:  82%|████████▏ | 2.97G/3.62G [00:41<00:12, 54.0MB/s]\u001b[A\n",
      "Downloading data:  82%|████████▏ | 2.98G/3.62G [00:41<00:09, 66.1MB/s]\u001b[A\n",
      "Downloading data:  83%|████████▎ | 2.99G/3.62G [00:41<00:09, 67.4MB/s]\u001b[A\n",
      "Downloading data:  83%|████████▎ | 3.00G/3.62G [00:41<00:08, 76.6MB/s]\u001b[A\n",
      "Downloading data:  83%|████████▎ | 3.01G/3.62G [00:41<00:07, 76.6MB/s]\u001b[A\n",
      "Downloading data:  83%|████████▎ | 3.02G/3.62G [00:41<00:07, 82.3MB/s]\u001b[A\n",
      "Downloading data:  84%|████████▍ | 3.04G/3.62G [00:41<00:06, 93.6MB/s]\u001b[A\n",
      "Downloading data:  84%|████████▍ | 3.05G/3.62G [00:42<00:07, 77.8MB/s]\u001b[A\n",
      "Downloading data:  84%|████████▍ | 3.06G/3.62G [00:42<00:06, 83.5MB/s]\u001b[A\n",
      "Downloading data:  85%|████████▍ | 3.07G/3.62G [00:42<00:09, 61.6MB/s]\u001b[A\n",
      "Downloading data:  85%|████████▍ | 3.08G/3.62G [00:42<00:09, 60.7MB/s]\u001b[A\n",
      "Downloading data:  85%|████████▌ | 3.08G/3.62G [00:42<00:07, 68.5MB/s]\u001b[A\n",
      "Downloading data:  85%|████████▌ | 3.09G/3.62G [00:42<00:09, 56.4MB/s]\u001b[A\n",
      "Downloading data:  86%|████████▌ | 3.11G/3.62G [00:42<00:07, 71.0MB/s]\u001b[A\n",
      "Downloading data:  86%|████████▌ | 3.11G/3.62G [00:43<00:08, 58.5MB/s]\u001b[A\n",
      "Downloading data:  86%|████████▌ | 3.13G/3.62G [00:43<00:07, 71.2MB/s]\u001b[A\n",
      "Downloading data:  86%|████████▋ | 3.13G/3.62G [00:43<00:07, 64.0MB/s]\u001b[A\n",
      "Downloading data:  87%|████████▋ | 3.14G/3.62G [00:43<00:07, 63.1MB/s]\u001b[A\n",
      "Downloading data:  87%|████████▋ | 3.15G/3.62G [00:43<00:06, 69.3MB/s]\u001b[A\n",
      "Downloading data:  87%|████████▋ | 3.16G/3.62G [00:43<00:06, 69.9MB/s]\u001b[A\n",
      "Downloading data:  88%|████████▊ | 3.17G/3.62G [00:43<00:05, 84.6MB/s]\u001b[A\n",
      "Downloading data:  88%|████████▊ | 3.18G/3.62G [00:44<00:05, 76.0MB/s]\u001b[A\n",
      "Downloading data:  88%|████████▊ | 3.20G/3.62G [00:44<00:05, 72.5MB/s]\u001b[A\n",
      "Downloading data:  89%|████████▊ | 3.21G/3.62G [00:44<00:04, 84.6MB/s]\u001b[A\n",
      "Downloading data:  89%|████████▉ | 3.22G/3.62G [00:44<00:06, 63.6MB/s]\u001b[A\n",
      "Downloading data:  89%|████████▉ | 3.23G/3.62G [00:44<00:06, 61.7MB/s]\u001b[A\n",
      "Downloading data:  89%|████████▉ | 3.24G/3.62G [00:44<00:05, 73.5MB/s]\u001b[A\n",
      "Downloading data:  90%|████████▉ | 3.25G/3.62G [00:45<00:05, 71.7MB/s]\u001b[A\n",
      "Downloading data:  90%|█████████ | 3.26G/3.62G [00:45<00:04, 83.8MB/s]\u001b[A\n",
      "Downloading data:  90%|█████████ | 3.27G/3.62G [00:45<00:05, 66.6MB/s]\u001b[A\n",
      "Downloading data:  91%|█████████ | 3.28G/3.62G [00:45<00:05, 57.2MB/s]\u001b[A\n",
      "Downloading data:  91%|█████████ | 3.29G/3.62G [00:45<00:04, 67.4MB/s]\u001b[A\n",
      "Downloading data:  91%|█████████ | 3.30G/3.62G [00:45<00:04, 65.1MB/s]\u001b[A\n",
      "Downloading data:  91%|█████████▏| 3.31G/3.62G [00:45<00:04, 75.4MB/s]\u001b[A\n",
      "Downloading data:  92%|█████████▏| 3.32G/3.62G [00:46<00:04, 71.3MB/s]\u001b[A\n",
      "Downloading data:  92%|█████████▏| 3.33G/3.62G [00:46<00:03, 80.5MB/s]\u001b[A\n",
      "Downloading data:  92%|█████████▏| 3.34G/3.62G [00:46<00:03, 81.4MB/s]\u001b[A\n",
      "Downloading data:  92%|█████████▏| 3.35G/3.62G [00:46<00:04, 60.1MB/s]\u001b[A\n",
      "Downloading data:  93%|█████████▎| 3.36G/3.62G [00:46<00:03, 73.6MB/s]\u001b[A\n",
      "Downloading data:  93%|█████████▎| 3.37G/3.62G [00:46<00:04, 59.2MB/s]\u001b[A\n",
      "Downloading data:  93%|█████████▎| 3.38G/3.62G [00:46<00:03, 69.8MB/s]\u001b[A\n",
      "Downloading data:  94%|█████████▎| 3.39G/3.62G [00:47<00:03, 66.8MB/s]\u001b[A\n",
      "Downloading data:  94%|█████████▍| 3.40G/3.62G [00:47<00:03, 65.8MB/s]\u001b[A\n",
      "Downloading data:  94%|█████████▍| 3.41G/3.62G [00:47<00:02, 79.5MB/s]\u001b[A\n",
      "Downloading data:  94%|█████████▍| 3.42G/3.62G [00:47<00:02, 71.3MB/s]\u001b[A\n",
      "Downloading data:  95%|█████████▍| 3.43G/3.62G [00:47<00:03, 56.9MB/s]\u001b[A\n",
      "Downloading data:  95%|█████████▍| 3.44G/3.62G [00:47<00:03, 53.4MB/s]\u001b[A\n",
      "Downloading data:  95%|█████████▌| 3.45G/3.62G [00:48<00:03, 53.8MB/s]\u001b[A\n",
      "Downloading data:  96%|█████████▌| 3.46G/3.62G [00:48<00:02, 62.2MB/s]\u001b[A\n",
      "Downloading data:  96%|█████████▌| 3.47G/3.62G [00:48<00:02, 67.5MB/s]\u001b[A\n",
      "Downloading data:  96%|█████████▌| 3.48G/3.62G [00:48<00:01, 82.0MB/s]\u001b[A\n",
      "Downloading data:  96%|█████████▋| 3.49G/3.62G [00:48<00:02, 63.3MB/s]\u001b[A\n",
      "Downloading data:  97%|█████████▋| 3.50G/3.62G [00:49<00:02, 51.9MB/s]\u001b[A\n",
      "Downloading data:  97%|█████████▋| 3.51G/3.62G [00:49<00:02, 52.1MB/s]\u001b[A\n",
      "Downloading data:  97%|█████████▋| 3.52G/3.62G [00:49<00:01, 52.5MB/s]\u001b[A\n",
      "Downloading data:  97%|█████████▋| 3.53G/3.62G [00:49<00:01, 63.0MB/s]\u001b[A\n",
      "Downloading data:  98%|█████████▊| 3.54G/3.62G [00:49<00:01, 61.6MB/s]\u001b[A\n",
      "Downloading data:  98%|█████████▊| 3.55G/3.62G [00:49<00:01, 47.7MB/s]\u001b[A\n",
      "Downloading data:  98%|█████████▊| 3.56G/3.62G [00:50<00:01, 43.8MB/s]\u001b[A\n",
      "Downloading data:  99%|█████████▊| 3.57G/3.62G [00:50<00:00, 64.3MB/s]\u001b[A\n",
      "Downloading data:  99%|█████████▉| 3.58G/3.62G [00:50<00:00, 56.6MB/s]\u001b[A\n",
      "Downloading data:  99%|█████████▉| 3.59G/3.62G [00:50<00:00, 61.4MB/s]\u001b[A\n",
      "Downloading data:  99%|█████████▉| 3.60G/3.62G [00:50<00:00, 76.4MB/s]\u001b[A\n",
      "Downloading data: 100%|█████████▉| 3.61G/3.62G [00:50<00:00, 62.9MB/s]\u001b[A\n",
      "Downloading data: 100%|██████████| 3.62G/3.62G [00:50<00:00, 71.2MB/s]\u001b[A\n",
      "Downloading data files:  50%|█████     | 1/2 [00:52<00:52, 52.28s/it]\n",
      "Downloading data:   0%|          | 0.00/880M [00:00<?, ?B/s]\u001b[A\n",
      "Downloading data:   1%|          | 5.84M/880M [00:00<00:20, 42.3MB/s]\u001b[A\n",
      "Downloading data:   1%|          | 10.1M/880M [00:00<00:21, 40.1MB/s]\u001b[A\n",
      "Downloading data:   2%|▏         | 17.2M/880M [00:00<00:19, 43.4MB/s]\u001b[A\n",
      "Downloading data:   3%|▎         | 27.8M/880M [00:00<00:13, 63.8MB/s]\u001b[A\n",
      "Downloading data:   4%|▍         | 34.6M/880M [00:00<00:19, 42.5MB/s]\u001b[A\n",
      "Downloading data:   6%|▌         | 50.5M/880M [00:00<00:12, 69.0MB/s]\u001b[A\n",
      "Downloading data:   7%|▋         | 59.3M/880M [00:01<00:12, 64.0MB/s]\u001b[A\n",
      "Downloading data:   8%|▊         | 68.7M/880M [00:01<00:14, 58.0MB/s]\u001b[A\n",
      "Downloading data:   9%|▉         | 80.8M/880M [00:01<00:11, 71.4MB/s]\u001b[A\n",
      "Downloading data:  10%|█         | 89.2M/880M [00:01<00:22, 35.2MB/s]\u001b[A\n",
      "Downloading data:  12%|█▏        | 102M/880M [00:02<00:16, 48.2MB/s] \u001b[A\n",
      "Downloading data:  13%|█▎        | 111M/880M [00:02<00:15, 49.2MB/s]\u001b[A\n",
      "Downloading data:  14%|█▎        | 120M/880M [00:02<00:16, 45.9MB/s]\u001b[A\n",
      "Downloading data:  15%|█▌        | 136M/880M [00:02<00:11, 64.2MB/s]\u001b[A\n",
      "Downloading data:  16%|█▋        | 145M/880M [00:02<00:11, 64.7MB/s]\u001b[A\n",
      "Downloading data:  18%|█▊        | 155M/880M [00:02<00:11, 65.7MB/s]\u001b[A\n",
      "Downloading data:  19%|█▉        | 167M/880M [00:02<00:09, 79.0MB/s]\u001b[A\n",
      "Downloading data:  20%|██        | 177M/880M [00:03<00:10, 65.5MB/s]\u001b[A\n",
      "Downloading data:  21%|██▏       | 187M/880M [00:03<00:10, 69.0MB/s]\u001b[A\n",
      "Downloading data:  22%|██▏       | 195M/880M [00:03<00:12, 55.7MB/s]\u001b[A\n",
      "Downloading data:  23%|██▎       | 205M/880M [00:03<00:11, 56.5MB/s]\u001b[A\n",
      "Downloading data:  24%|██▍       | 212M/880M [00:03<00:12, 51.9MB/s]\u001b[A\n",
      "Downloading data:  25%|██▌       | 223M/880M [00:03<00:11, 58.7MB/s]\u001b[A\n",
      "Downloading data:  27%|██▋       | 235M/880M [00:04<00:09, 71.3MB/s]\u001b[A\n",
      "Downloading data:  28%|██▊       | 243M/880M [00:04<00:11, 53.1MB/s]\u001b[A\n",
      "Downloading data:  28%|██▊       | 250M/880M [00:04<00:15, 41.7MB/s]\u001b[A\n",
      "Downloading data:  29%|██▉       | 258M/880M [00:04<00:13, 46.2MB/s]\u001b[A\n",
      "Downloading data:  31%|███       | 270M/880M [00:04<00:09, 61.3MB/s]\u001b[A\n",
      "Downloading data:  32%|███▏      | 278M/880M [00:05<00:11, 50.6MB/s]\u001b[A\n",
      "Downloading data:  32%|███▏      | 284M/880M [00:05<00:12, 46.8MB/s]\u001b[A\n",
      "Downloading data:  33%|███▎      | 291M/880M [00:05<00:11, 50.5MB/s]\u001b[A\n",
      "Downloading data:  34%|███▍      | 297M/880M [00:05<00:13, 41.8MB/s]\u001b[A\n",
      "Downloading data:  35%|███▌      | 309M/880M [00:05<00:11, 48.1MB/s]\u001b[A\n",
      "Downloading data:  37%|███▋      | 322M/880M [00:05<00:08, 63.1MB/s]\u001b[A\n",
      "Downloading data:  38%|███▊      | 330M/880M [00:05<00:08, 67.9MB/s]\u001b[A\n",
      "Downloading data:  39%|███▉      | 344M/880M [00:06<00:07, 71.8MB/s]\u001b[A\n",
      "Downloading data:  40%|████      | 354M/880M [00:06<00:06, 79.6MB/s]\u001b[A\n",
      "Downloading data:  41%|████      | 363M/880M [00:06<00:07, 70.4MB/s]\u001b[A\n",
      "Downloading data:  43%|████▎     | 377M/880M [00:06<00:05, 85.5MB/s]\u001b[A\n",
      "Downloading data:  44%|████▍     | 386M/880M [00:06<00:06, 72.1MB/s]\u001b[A\n",
      "Downloading data:  45%|████▍     | 395M/880M [00:06<00:06, 72.7MB/s]\u001b[A\n",
      "Downloading data:  46%|████▌     | 407M/880M [00:06<00:05, 82.6MB/s]\u001b[A\n",
      "Downloading data:  47%|████▋     | 416M/880M [00:07<00:06, 75.6MB/s]\u001b[A\n",
      "Downloading data:  49%|████▊     | 428M/880M [00:07<00:06, 72.3MB/s]\u001b[A\n",
      "Downloading data:  49%|████▉     | 436M/880M [00:07<00:07, 62.4MB/s]\u001b[A\n",
      "Downloading data:  51%|█████     | 446M/880M [00:07<00:06, 64.7MB/s]\u001b[A\n",
      "Downloading data:  51%|█████▏    | 453M/880M [00:07<00:06, 62.3MB/s]\u001b[A\n",
      "Downloading data:  53%|█████▎    | 464M/880M [00:07<00:07, 55.5MB/s]\u001b[A\n",
      "Downloading data:  54%|█████▍    | 476M/880M [00:07<00:05, 67.7MB/s]\u001b[A\n",
      "Downloading data:  55%|█████▍    | 483M/880M [00:08<00:06, 58.5MB/s]\u001b[A\n",
      "Downloading data:  56%|█████▌    | 490M/880M [00:08<00:06, 56.3MB/s]\u001b[A\n",
      "Downloading data:  56%|█████▋    | 496M/880M [00:08<00:07, 53.8MB/s]\u001b[A\n",
      "Downloading data:  57%|█████▋    | 501M/880M [00:08<00:08, 44.1MB/s]\u001b[A\n",
      "Downloading data:  58%|█████▊    | 515M/880M [00:08<00:05, 62.8MB/s]\u001b[A\n",
      "Downloading data:  59%|█████▉    | 523M/880M [00:08<00:05, 68.2MB/s]\u001b[A\n",
      "Downloading data:  61%|██████    | 533M/880M [00:09<00:05, 63.4MB/s]\u001b[A\n",
      "Downloading data:  62%|██████▏   | 548M/880M [00:09<00:03, 83.4MB/s]\u001b[A\n",
      "Downloading data:  63%|██████▎   | 557M/880M [00:09<00:04, 68.5MB/s]\u001b[A\n",
      "Downloading data:  64%|██████▍   | 565M/880M [00:09<00:04, 71.3MB/s]\u001b[A\n",
      "Downloading data:  65%|██████▌   | 573M/880M [00:09<00:05, 59.4MB/s]\u001b[A\n",
      "Downloading data:  66%|██████▌   | 582M/880M [00:09<00:05, 56.7MB/s]\u001b[A\n",
      "Downloading data:  67%|██████▋   | 589M/880M [00:09<00:06, 48.5MB/s]\u001b[A\n",
      "Downloading data:  68%|██████▊   | 601M/880M [00:10<00:05, 48.5MB/s]\u001b[A\n",
      "Downloading data:  69%|██████▉   | 606M/880M [00:10<00:06, 42.9MB/s]\u001b[A\n",
      "Downloading data:  70%|███████   | 618M/880M [00:10<00:05, 46.1MB/s]\u001b[A\n",
      "Downloading data:  71%|███████   | 623M/880M [00:10<00:06, 41.2MB/s]\u001b[A\n",
      "Downloading data:  72%|███████▏  | 636M/880M [00:10<00:04, 52.0MB/s]\u001b[A\n",
      "Downloading data:  73%|███████▎  | 644M/880M [00:11<00:04, 57.6MB/s]\u001b[A\n",
      "Downloading data:  74%|███████▍  | 651M/880M [00:11<00:03, 58.3MB/s]\u001b[A\n",
      "Downloading data:  75%|███████▍  | 657M/880M [00:11<00:04, 52.6MB/s]\u001b[A\n",
      "Downloading data:  76%|███████▌  | 670M/880M [00:11<00:03, 68.5MB/s]\u001b[A\n",
      "Downloading data:  77%|███████▋  | 678M/880M [00:11<00:03, 64.2MB/s]\u001b[A\n",
      "Downloading data:  78%|███████▊  | 686M/880M [00:11<00:02, 67.9MB/s]\u001b[A\n",
      "Downloading data:  79%|███████▊  | 693M/880M [00:11<00:03, 51.8MB/s]\u001b[A\n",
      "Downloading data:  80%|███████▉  | 704M/880M [00:12<00:02, 61.9MB/s]\u001b[A\n",
      "Downloading data:  81%|████████  | 711M/880M [00:12<00:03, 51.7MB/s]\u001b[A\n",
      "Downloading data:  82%|████████▏ | 720M/880M [00:12<00:03, 45.0MB/s]\u001b[A\n",
      "Downloading data:  82%|████████▏ | 725M/880M [00:12<00:03, 40.5MB/s]\u001b[A\n",
      "Downloading data:  84%|████████▍ | 738M/880M [00:12<00:02, 56.6MB/s]\u001b[A\n",
      "Downloading data:  85%|████████▍ | 745M/880M [00:12<00:02, 48.6MB/s]\u001b[A\n",
      "Downloading data:  86%|████████▌ | 755M/880M [00:13<00:02, 59.5MB/s]\u001b[A\n",
      "Downloading data:  87%|████████▋ | 763M/880M [00:13<00:02, 56.1MB/s]\u001b[A\n",
      "Downloading data:  88%|████████▊ | 771M/880M [00:13<00:01, 59.1MB/s]\u001b[A\n",
      "Downloading data:  88%|████████▊ | 778M/880M [00:13<00:01, 54.9MB/s]\u001b[A\n",
      "Downloading data:  90%|████████▉ | 790M/880M [00:13<00:01, 57.1MB/s]\u001b[A\n",
      "Downloading data:  91%|█████████ | 802M/880M [00:13<00:01, 70.5MB/s]\u001b[A\n",
      "Downloading data:  92%|█████████▏| 810M/880M [00:13<00:01, 60.3MB/s]\u001b[A\n",
      "Downloading data:  93%|█████████▎| 823M/880M [00:14<00:00, 72.5MB/s]\u001b[A\n",
      "Downloading data:  94%|█████████▍| 831M/880M [00:14<00:00, 66.4MB/s]\u001b[A\n",
      "Downloading data:  96%|█████████▌| 842M/880M [00:14<00:00, 64.9MB/s]\u001b[A\n",
      "Downloading data:  97%|█████████▋| 852M/880M [00:14<00:00, 72.8MB/s]\u001b[A\n",
      "Downloading data:  98%|█████████▊| 860M/880M [00:14<00:00, 69.3MB/s]\u001b[A\n",
      "Downloading data: 100%|██████████| 880M/880M [00:15<00:00, 57.9MB/s]\u001b[A\n",
      "Downloading data files: 100%|██████████| 2/2 [01:10<00:00, 35.49s/it]\n",
      "Extracting data files: 100%|██████████| 2/2 [01:50<00:00, 55.18s/it]\n",
      "                                                                                         \r"
     ]
    },
    {
     "name": "stdout",
     "output_type": "stream",
     "text": [
      "Dataset scientific_papers downloaded and prepared to /home/u_61485201/.cache/huggingface/datasets/scientific_papers/pubmed/1.1.1/306757013fb6f37089b6a75469e6638a553bd9f009484938d8f75a4c5e84206f. Subsequent calls will reuse this data.\n"
     ]
    }
   ],
   "source": [
    "train_dataset = load_dataset(\"scientific_papers\", \"pubmed\", split=\"train\")"
   ]
  },
  {
   "cell_type": "code",
   "execution_count": null,
   "id": "33318445",
   "metadata": {},
   "outputs": [],
   "source": [
    "# val_dataset = load_dataset(\"scientific_papers\", \"pubmed\", split=\"validation\")"
   ]
  },
  {
   "cell_type": "markdown",
   "id": "42121b27",
   "metadata": {},
   "source": [
    "### show random downloaded text"
   ]
  },
  {
   "cell_type": "code",
   "execution_count": null,
   "id": "5955b545",
   "metadata": {},
   "outputs": [],
   "source": []
  },
  {
   "cell_type": "code",
   "execution_count": 14,
   "id": "53a64822",
   "metadata": {},
   "outputs": [],
   "source": [
    "import datasets\n",
    "import random\n",
    "import pandas as pd\n",
    "from IPython.display import display, HTML\n"
   ]
  },
  {
   "cell_type": "markdown",
   "id": "db496145",
   "metadata": {},
   "source": [
    "### Utility functions we wrote are defined in oscar_utils.py for version control. Please DO NOT edit them on the fly here. any edits and addition to a Class or method defined must be added to oscar_utils.py"
   ]
  },
  {
   "cell_type": "code",
   "execution_count": 36,
   "id": "7ab9c4c7",
   "metadata": {},
   "outputs": [],
   "source": [
    "# from oscar_utils import show_random_elements"
   ]
  },
  {
   "cell_type": "code",
   "execution_count": 38,
   "id": "a4bb916a",
   "metadata": {},
   "outputs": [],
   "source": [
    "def show_random_elements(dataset, num_examples=4):\n",
    "    assert num_examples <= len(dataset), \"Can't pick more elements than there are in the dataset.\"\n",
    "    picks = []\n",
    "    for _ in range(num_examples):\n",
    "        pick = random.randint(0, len(dataset)-1)\n",
    "        while pick in picks:\n",
    "            pick = random.randint(0, len(dataset)-1)\n",
    "        picks.append(pick)\n",
    "\n",
    "    df = pd.DataFrame(dataset[picks])\n",
    "    for column, typ in dataset.features.items():\n",
    "        if isinstance(typ, datasets.ClassLabel):\n",
    "            df[column] = df[column].transform(lambda i: typ.names[i])\n",
    "    display(HTML(df.to_html()))\n"
   ]
  },
  {
   "cell_type": "code",
   "execution_count": 39,
   "id": "babab042",
   "metadata": {},
   "outputs": [
    {
     "data": {
      "text/html": [
       "<table border=\"1\" class=\"dataframe\">\n",
       "  <thead>\n",
       "    <tr style=\"text-align: right;\">\n",
       "      <th></th>\n",
       "      <th>article</th>\n",
       "      <th>abstract</th>\n",
       "      <th>section_names</th>\n",
       "    </tr>\n",
       "  </thead>\n",
       "  <tbody>\n",
       "    <tr>\n",
       "      <th>0</th>\n",
       "      <td>both familial and twin studies suggest that genetic factors in power , speed and strength account for 35%~80% of inter - individual variation [ 6,28 - 30 ] . during the last two decades\\n, there has been considerable interest in finding the genetic factors responsible for human performance .\\nit has recently been reported that some candidate genes are related to human muscle power . among them , actn3 is one of the most interesting genes in that the actn3 variant ( actn3 r577x snp ) directly determines the expression of the -actinin-3 protein that contributes to the construction of the contractile component in power - generating fast twitch fibers of the skeletal muscle .\\nin addition , it has been reported that the functional individual difference of -actnin-3 protein expressed only in sarcomere of fast - twitch muscle fibers is not to be decided by multiple gene ( 170 counts ) diversity coding -actinin-3 but by actn3 r577x diversity such as dominant - recessive effect .\\nthis gene has a 1747c &gt; t transition within exon 16 , which results in the actn3 r577x snp , giving three genotypes : the rr , rx and xx genotypes . in the actn3 variant ( r577x snp ) , the xx genotype deficits -actinin-3 due to the premature stop codon without a pathological phenotype , whereas the rr and rx genotypes express -actinin-3 . as a result\\nan important structural component of the z disc is -actinin-3 , where it anchors actin thin filaments , helping to maintain the myofibrillar array only in fast twitch muscle fibers that are responsible for high velocity and force for power - generating contractions .\\nit has been suggested that the actn3 variant for the expression or deficiency of -actinin-3 in fast - twitch muscle fibers should influence the power - generating muscle function .\\nseveral studies have found that the actn3 variant affects the top - level elite athletes , and controls speed / power performance .\\nthe r allele and the rr genotype , expressing -actinin-3 , are overrepresented whereas the xx genotype for -actinin-3 deficiencies is underrepresented in sprint events , suggesting that -actinin-3 is required for sprint / power performance .\\nexperimental studies using actn3 ko mice have also shown that the absence of -actinin-3 results in fast - twitch , glycolytic fibers developing slower - twitch and poorer power generation , supporting the responsiveness of the -actinin-3 expression to optimal sprint and power performance .\\nthese results show that the actn3 variant is somewhat responsible for speed performance and also for determining some aspects of muscle power . however , previous research on the actn3 variant focused mainly on speed performance without differentiating its influence on the power components of speed and strength . because muscle power is the high - strength muscular performance that occurs over a short time period\\n, it is composed of speed and strength each of which can be differentiated independently and can also be determined by environmental and genetic factors .\\nthere is , however , a dearth of information on the association of strength , speed , or power with the actn3 variant . only association of power with the actn3 variant and association of speed with the actn3 variant are reported .\\nconsidering that the expression of sarcomeric -actinin-3 is located at the fast - twitch fiber that generates strong , high - velocity muscle contraction , there is a strong need to understand whether -actinin-3 is expressed or not and whether it should be associated with forceful contraction , i.e. muscle strength , for giving explosive power .\\ntherefore , the aim of this study is to examine the distribution of the actn3 r577x genotypes and alleles in poweroriented , speed - oriented and strength - oriented athletes and to search for differential associations of the power components with the actn3 r577x polymorphism .\\nall participants in this study were recruited from august , 1996 to december , 2011 .\\nall athletes in this study were members of the korean national team and university elite athletes and the control group consisted of non - athletes participating in national physical fitness survey and national health promotion business .\\nathletic participants in this study consisted of 849 elite athletes that play 11 different sports including fencing , skating , track &amp; field , swimming , wrestling , boxing , cycling , weightlifting , gymnastics , field hockey and judo .\\nonly weightlifters , sprinters (  400 m ) , speed skaters (  1,500 m ) and swimmers (  100 m ) were selected for this study since these sports are mainly focused on strength , speed and power .\\nthe weightlifters are considered to be strengthoriented athletes while the speed skaters and swimmers are considered to be speed - oriented athletes .\\nall three groups ( weightlifters , speed skaters and swimmers ) belong to the power - oriented category .\\nas many as 121 top - level athletes participated in this study and their athletic performance records were confirmed by the korea sports council .\\na total of 975 koreans aged 18 - 39yrs , and composed of healthy controls ( n = 854 ) , top - level strength - oriented athletes ( n = 63 ) , and top - level speed - oriented athletes ( n = 58 ) were included in this study ( see table 1 ) .\\npower - oriented top - level athletes ( n = 121 ) were collectively assigned by merging the top - level strength - oriented athletes and the top - level speed - oriented athletes .\\nthe 854 healthy controls ( 435 men , 419 women ) met the following inclusion criteria : ( 1 ) apparently healthy people ( 2 ) no known diseases such as neuromuscular disease , cardiovascular disease or metabolic problems ( 3 ) native korean aged 18 - 39yrs and ( 4 ) no participation in athletic events .\\nthe top - level strength - oriented athletes were selected based on their having represented korea at the international level or on their having won an international championship in weightlifting . of the final 63 weightlifters ( 37 men , 26 women ) selected as top level strength - oriented athletes for this study , 23 had won medals at the world championships and olympic games .\\nthe top - level speedoriented athletes were selected along the same lines i.e. outstanding performance in sprint events and participation in top international competitions and/or olympic games as representative korean sprinters .\\nof the 58 participants ( 37 men , 21 women ) selected as top - level speed - oriented athletes , 18 were speed skaters (  1,000 m ) , 21 were sprinters (  400 m ) and 19 were swimmers (  100 m ) .\\nadditionally 19 of them had won medals in their special area either in the asia or world championships or the olympic games .\\nwritten informed consent was obtained from all subjects under protocols approved by the institutional review boards of the eulji university school of medicine .\\ngenomic dna was isolated from peripheral blood cells using a qiaamp blood kit ( qiagen , valencia , ca , uas ) according to the manufacturer s protocols .\\nthe snp of the actn3 r577x ( rs1815739 ) was analyzed with custom - designed primers and probes ( assay i d : c_590093_1 _ ) for the mgb taqman snp genotyping assay ( applied biosystems , foster city , ca , usa ) .\\nallele - specific probes were labeled with the fluorescent dyes vic ( 5'-tcgctctcggtcagc- 3 ' ) and fam ( 5'-cgctctcagtcagc-3 ' ) .\\nrcr was carried out in a total reaction volume of 20 containing 200ng of template , 10 taqman universal pcr master mix no amperase ung ( 2x ) and 0.5 40xsnp genotyping assay with the following amplification protocol : denaturation at 95 for 10 minutes , followed by 40 cycles of denaturation at 92 for 15 seconds and finally annealing and extension at 60 for 1 minute .\\npost pcr , the genotype of each sample was attributed automatically by measuring the allele - specific fluorescence on the abi prism 7900 sequence detection system using sds 2.3 software for allelic discrimination ( applied biosystems , foster city , ca , usa ) .\\npawe ( power for association with error ) software program was used to test sample size validity and the sample size validity was confirmed by having type 1 error set at 0.05 and type ii error as 80% power level .\\nthe actn3 allele and genotype frequencies were obtained by direct count . the hardy - weinberg equilibrium ( hwe ) for genotype distribution of each group\\ndifferences in the allele frequencies and genotypes between the controls and the power - oriented athletes , between the controls and the top - level strength athletes and between the controls and the top - level sprinters were compared using the chi - square test or fisher s exact test based on the presence of less than five frequencies in one cell .\\ntrend analysis for the genotype distribution between the controls and the power - oriented , top - level strength and speed groups was conducted by the linear - by - linear association analysis .\\nall analyses were conducted using spss statistical software ( version 13.0 ; spss inc . ,\\na two - tailed significance at .05 level was chosen to test for type i errors .\\nall participants in this study were recruited from august , 1996 to december , 2011 .\\nall athletes in this study were members of the korean national team and university elite athletes and the control group consisted of non - athletes participating in national physical fitness survey and national health promotion business .\\nathletic participants in this study consisted of 849 elite athletes that play 11 different sports including fencing , skating , track &amp; field , swimming , wrestling , boxing , cycling , weightlifting , gymnastics , field hockey and judo .\\nonly weightlifters , sprinters (  400 m ) , speed skaters (  1,500 m ) and swimmers (  100 m ) were selected for this study since these sports are mainly focused on strength , speed and power .\\nthe weightlifters are considered to be strengthoriented athletes while the speed skaters and swimmers are considered to be speed - oriented athletes .\\nall three groups ( weightlifters , speed skaters and swimmers ) belong to the power - oriented category .\\nas many as 121 top - level athletes participated in this study and their athletic performance records were confirmed by the korea sports council .\\na total of 975 koreans aged 18 - 39yrs , and composed of healthy controls ( n = 854 ) , top - level strength - oriented athletes ( n = 63 ) , and top - level speed - oriented athletes ( n = 58 ) were included in this study ( see table 1 ) .\\npower - oriented top - level athletes ( n = 121 ) were collectively assigned by merging the top - level strength - oriented athletes and the top - level speed - oriented athletes .\\nthe 854 healthy controls ( 435 men , 419 women ) met the following inclusion criteria : ( 1 ) apparently healthy people ( 2 ) no known diseases such as neuromuscular disease , cardiovascular disease or metabolic problems ( 3 ) native korean aged 18 - 39yrs and ( 4 ) no participation in athletic events .\\nthe top - level strength - oriented athletes were selected based on their having represented korea at the international level or on their having won an international championship in weightlifting . of the final 63 weightlifters ( 37 men , 26 women ) selected as top level strength - oriented athletes for this study , 23 had won medals at the world championships and olympic games .\\nthe top - level speedoriented athletes were selected along the same lines i.e. outstanding performance in sprint events and participation in top international competitions and/or olympic games as representative korean sprinters .\\nof the 58 participants ( 37 men , 21 women ) selected as top - level speed - oriented athletes , 18 were speed skaters (  1,000 m ) , 21 were sprinters (  400 m ) and 19 were swimmers (  100 m ) .\\nadditionally 19 of them had won medals in their special area either in the asia or world championships or the olympic games .\\nwritten informed consent was obtained from all subjects under protocols approved by the institutional review boards of the eulji university school of medicine .\\ngenomic dna was isolated from peripheral blood cells using a qiaamp blood kit ( qiagen , valencia , ca , uas ) according to the manufacturer s protocols .\\nthe snp of the actn3 r577x ( rs1815739 ) was analyzed with custom - designed primers and probes ( assay i d : c_590093_1 _ ) for the mgb taqman snp genotyping assay ( applied biosystems , foster city , ca , usa ) .\\nallele - specific probes were labeled with the fluorescent dyes vic ( 5'-tcgctctcggtcagc- 3 ' ) and fam ( 5'-cgctctcagtcagc-3 ' ) .\\nrcr was carried out in a total reaction volume of 20 containing 200ng of template , 10 taqman universal pcr master mix no amperase ung ( 2x ) and 0.5 40xsnp genotyping assay with the following amplification protocol : denaturation at 95 for 10 minutes , followed by 40 cycles of denaturation at 92 for 15 seconds and finally annealing and extension at 60 for 1 minute .\\npost pcr , the genotype of each sample was attributed automatically by measuring the allele - specific fluorescence on the abi prism 7900 sequence detection system using sds 2.3 software for allelic discrimination ( applied biosystems , foster city , ca , usa ) .\\npawe ( power for association with error ) software program was used to test sample size validity and the sample size validity was confirmed by having type 1 error set at 0.05 and type ii error as 80% power level .\\nthe actn3 allele and genotype frequencies were obtained by direct count . the hardy - weinberg equilibrium ( hwe ) for genotype distribution of each group\\ndifferences in the allele frequencies and genotypes between the controls and the power - oriented athletes , between the controls and the top - level strength athletes and between the controls and the top - level sprinters were compared using the chi - square test or fisher s exact test based on the presence of less than five frequencies in one cell .\\ntrend analysis for the genotype distribution between the controls and the power - oriented , top - level strength and speed groups was conducted by the linear - by - linear association analysis .\\nall analyses were conducted using spss statistical software ( version 13.0 ; spss inc . ,\\na two - tailed significance at .05 level was chosen to test for type i errors .\\na combination of control individuals and top - level power - oriented athletes , divided into top - level weightlifters ( strength - oriented ) and sprinters ( speed - oriented ) , was analyzed in this study .\\ntable 1 shows the actn3 allele and genotype frequen cies from the control and power - oriented groups .\\nthe actn3 genotype distributions in the control group and the poweroriented group were in hardy - weingberg equilibrium ( [df=1 ] = 0.934 for the control , [df=1 ] = 0.258 for the power - oriented group ; p &gt; 0.10 ) .\\nthe actn3 genotype and allele distribution in the power - oriented athletes showed significant differences when compared with the controls ( [df=2 ] = 7.347 , p &lt; 0.05 for genotype ; [df=1 ] = 7.105 , p &lt; 0.01 for allele ) .\\nthe poweroriented group had an underrepresented frequency of the xx genotype ( 11.6% vs 19.1% ) and the x allele ( 35.5% vs 44.6% ) in comparison to the control group . to test the association of power types ( strength and speed performance ) with the actn3 genotype\\n, the power - oriented group was divided into the strength - oriented group ( the toplevel weightlifters ) and the speed - oriented group ( the top - level sprinters ) .\\nboth of them were in hwe ( [df=1 ] = 1.758 for speed - oriented athletes , [df=1 ] = 0.210 for strength - oriented athletes ; p &gt; 0.10 ) .\\nas shown in table 1 , no statistical differences in the actn3 genotype and allele distributions were found between the strength - oriented athletes and the controls ( [df=2 ] = 2.682 , p &lt; 0.262 for genotype ; [df=1 ] = 2.022 , p = 0.155 for allele ) .\\nonly the speed - oriented athletes showed significant differences in the frequency distributions of the actn3 genotype ( fisher s exact test = 7.252 , p &lt; 0.05 ) and the allele ( [df=1 ] = 6.200 , p &lt; 0.05 ) from that of the controls . in fig .\\n1 , the frequency of the -actinin-3 non - expression genotype ( xx ) was significantly reduced while the frequency of the -actinin-3 expression genotype ( rr + rx ) was significantly increased in the speed - oriented athletes compared with the controls ( fisher s exact test = 5.395 , p &lt; 0.05 ; fig .\\nno significant difference in the  -actinin-3 expression genotype distribution was found in the strength - oriented athletes compared with the controls ( [df=1 ] = 0.396 , p &lt; 0.529 ) .\\nthe aim of this study is to explore an association of the actn3 genotype with speed and/or strength performance .\\nthe actn3 genotype distribution of korean top - level sprinters for speed , weightlifters for strength and mixed power - oriented athletes for power were compared to the actn3 genotype distribution of korean adults .\\nthere was a significant association of the actn3 genotype with power performance as was expected .\\nwhen dividing power performance into speed and strength performances , the actn3 genotype was only associated with speed performance but a relationship with strength performance was not identified .\\nthe actn3 xx genotype in deficit of the -actinin-3 protein in fast - twitch muscle fibers had a significantly low distribution in the speed performance group , while the distribution of the actn3 xx genotype showed a somewhat low ratio compared to the control group in the strength performance group with no statistical significance .\\ntherefore , speed performance among the power factors showed preference for the actn3 rr + rx genotype but not for the actn3 xx genotype .\\nthe association of the actn3 genotype with speed performance in this study is similar to previous study results .\\nyang et al .   reported reduced distribution of the actn3 xx genotype in sprint / power groups , composed of 7 australian judo elite athletes and 42 sprinters .\\nniemi and majamaa   and papadimitrou et al .   reported remarkably low levels of the actn3 xx genotype in greek sprinters .\\nin these studies , the distributions of the actn3 xx genotype in the control groups were about 18% similar to the 19% distribution fur the control group in our study . also , the authors reported low xx genotype distributions for sprinters ( 6% , 0% , and 8.8% ) compared to the control groups which agreed with our results of 6.9% .\\nthe actn3 genotype is favorable to sprint performance while the actn3 xx genotype lacking -actinin-3 is unfavorable to sprint performance .\\npapadimitrioum et al . , studied russian and greek populations respectively and reported that the distributions of the actn3 xx genotype were low in the power - oriented performance group compared to their control groups .\\nsantiago   also reported a reduced distribution of the xx genotype in spanish soccer players who needed explosive power through a combination of strength and speed .\\nin contrasr , neither nigerian nor greek track and field athletes skilled in power - oriented performance   showed any significant differences in their actn3 xx genotype distribution compared to the control groups .\\nthus , research on the association of actn3 with power - oriented performance has not shown consistent results .\\nit is well - known that the genetic structures of caucasians and africans are different , leading to some functionally different characteristics .\\nactually the xx genotype of the actn3 in caucasian is ~19% , higher than the 10% found in africans .\\nin addition , the differences in the composition of speed and strength athletes skilled in power - oriented performance may be another cause of the inconsistent association of actn3 with power performance .\\nthis study divided the actn3-associated power - oriented performance into speed performance and strength performance but the actn3 genotype distribution showed association only with speed performance and none with the strength performance .\\nthe coordination level of speed and strength affecting power - oriented performance may play an important role in determining the association between actn3 and power . as a result\\n, the association of the actn3 r577x variant with power - oriented performance would not show consistency and a variant that distinguishes the components of power into speed and strength would be needed to find the association of the actn3 variant with athletic performance . as there was no significant difference in the actn3 genotype distribution of korean top - level weightlifters with that of the control group in this study , the actn3 variant had no significant association with strength performance . because weightlifting requires a single maximal contraction of the skeletal muscle , it is essential for the skeletal muscle , especially for fast - twitch muscle fibers , to be hypertrophic .\\nit is expected that the distribution of the actn xx genotype was low because in the actn xx genotype , -actinin-3 is structured in the z - line of the fast - twitch muscle fiber that functions during rapid speed and strong power . however ,\\nin contrast with this hypothesis , the actn3 xx genotype was not significantly reduced in weightlifters .\\nsuch a result corresponded to previous study results with isokinetic strength performance of active young men and women .\\nthere was no difference in the isokinetic torque and rate of decline of torque between actn3 genotypes .\\nthese results including ours could support the contention that the lack of -actinin-3 in fast - twitch muscle fibers by the xx genotype only slightly affects the muscular strength of a single maximum contraction . on the other hand ,\\nthe null type of the -actinin-3 , actn3 xx genotype , showed a significantly low distribution in speed performance as consistently reported in previous studies and also in this study .\\ntherefore , it is thought that the -actinin-3 deficient genotype , the actn3 xx genotype , may affect speed performance that needs rapidly repeated muscular contractions . in the future\\n, it is necessary to explore the mechanism that causes the difference in the contraction of fast - twitch muscles that is due to the lack of -actinin-3 . in the case where the lack of -actinin-3 has no relation with the maximum muscular strength\\nthe actn3 xx genotype that is in deficit of -actinin-3 is confirmed to be strongly associated with speed performance that requires multiply repeated rapid muscle contractions .\\nthe actn3 xx genotype had no association with strength performance for single maximum muscle contractions among power components .\\ntherefore , we found suggestive evidence that the actn3 r577x polymorphism plays a role in discriminating speed performance athletes from strength athletes and sedentary controls .\\nin other words , the actn3 r577x variant is the main gene for speed performance but not for strength performance .</td>\n",
       "      <td>[ purpose]the aim of this study is to examine the association between the distribution of actn3 genotypes and alleles in power , speed , and strength - oriented athletics.[methods]actn3 genotyping was carried out for a total of 975 korean participants : top - level sprinters ( n = 58 ) , top - level strength athletes ( n = 63 ) , and healthy controls ( n = 854).[results]genetic associations were evaluated by chi - squire test or fisher s exact test . in the power - oriented group composed of sprinters and strength athletes , the frequency of the xx genotype was significantly underrepresented ( 11.6% ) in comparison to its representation in the control group ( 11.6% versus 19.1% , p &lt; 0.05 ) . \\n when the power - oriented group was divided into strength - oriented and speed - oriented groups , no significant difference in the actn3 xx genotype was found between the strength - oriented athletes and the controls ( 15.9% versus 19.1% , p &lt; 0.262 ) . \\n only the speed - oriented athletes showed significant differences in the frequency distributions of the actn3 xx genotype ( 6.9% versus 19.1% , p &lt; 0.05 ) from that of the controls.[conclusion]the actn3 genotype seems to mainly affect sports performance and especially speed .</td>\n",
       "      <td>INTRODUCTION\\nMETHODS\\nParticipants\\nGenotype analysis\\nStatistical analysis\\nRESULTS\\nDISCUSSION\\nCONCLUSIONS</td>\n",
       "    </tr>\n",
       "  </tbody>\n",
       "</table>"
      ],
      "text/plain": [
       "<IPython.core.display.HTML object>"
      ]
     },
     "metadata": {},
     "output_type": "display_data"
    }
   ],
   "source": [
    "show_random_elements(train_dataset, 1)"
   ]
  },
  {
   "cell_type": "code",
   "execution_count": null,
   "id": "ed1be9d6",
   "metadata": {},
   "outputs": [],
   "source": []
  },
  {
   "cell_type": "markdown",
   "id": "f36c031f",
   "metadata": {},
   "source": [
    "### import autotokenizer, from long-text transformer on huggingface"
   ]
  },
  {
   "cell_type": "code",
   "execution_count": 6,
   "id": "d73359d0",
   "metadata": {},
   "outputs": [],
   "source": [
    "# for EDA we use  \"smaller\" LED checkpoint \"allenai/led-base-16384\". Better performance can however be attained by finetuning \"allenai/led-large-16384\" at the cost of a higher required GPU RAM."
   ]
  },
  {
   "cell_type": "code",
   "execution_count": 5,
   "id": "7af69e18",
   "metadata": {},
   "outputs": [],
   "source": [
    "from transformers import AutoTokenizer"
   ]
  },
  {
   "cell_type": "code",
   "execution_count": 8,
   "id": "6a831eb8",
   "metadata": {},
   "outputs": [
    {
     "name": "stderr",
     "output_type": "stream",
     "text": [
      "Downloading (…)okenizer_config.json: 100%|██████████| 27.0/27.0 [00:00<00:00, 18.7kB/s]\n",
      "Downloading (…)lve/main/config.json: 100%|██████████| 1.09k/1.09k [00:00<00:00, 1.04MB/s]\n",
      "Downloading (…)olve/main/vocab.json: 100%|██████████| 899k/899k [00:00<00:00, 47.9MB/s]\n",
      "Downloading (…)olve/main/merges.txt: 100%|██████████| 456k/456k [00:00<00:00, 69.0MB/s]\n",
      "Downloading (…)cial_tokens_map.json: 100%|██████████| 772/772 [00:00<00:00, 743kB/s]\n"
     ]
    }
   ],
   "source": [
    "#we start with longformer: LongformerTokenizer (AllenAI Longformer model)\n",
    "\n",
    "tokenizer = AutoTokenizer.from_pretrained(\"allenai/led-base-16384\")"
   ]
  },
  {
   "cell_type": "markdown",
   "id": "31f5d833",
   "metadata": {},
   "source": [
    "Pubmed's input data has a median token length of 2715 with the 90%-ile token length being 6101. The output data has a media token length of 171 with the 90%-ile token length being 352.\n",
    "(cited from Big Bird: Transformers for Longer Sequences paper : https://arxiv.org/pdf/2007.14062.pdf)\n",
    "\n",
    "Thus, we set the maximum input length to 8192 and the maximum output length to 512 to ensure that the model can attend to almost all input tokens is able to generate up to a large enough number of output tokens.\n",
    "\n",
    "In this notebook, we are only able to train on batch_size=2 to prevent out-of-memory errors."
   ]
  },
  {
   "cell_type": "code",
   "execution_count": 9,
   "id": "5fc2ce85",
   "metadata": {},
   "outputs": [],
   "source": [
    "max_input_length = 8192\n",
    "max_output_length = 512\n",
    "batch_size = 2"
   ]
  },
  {
   "cell_type": "markdown",
   "id": "bc86e40c",
   "metadata": {},
   "source": [
    "Now, let's write down the input data processing function that will be used to map each data sample to the correct model format. As explained earlier article represents here our input data and abstract is the target data. The datasamples are thus tokenized up to the respective maximum lengths of 8192 and 512.\n",
    "\n",
    "In addition to the usual attention_mask, LED can make use of an additional global_attention_mask defining which input tokens are attended globally and which are attended only locally, just as it's the case of Longformer. For more information on Longformer's self-attention, please take a look at the corresponding docs. For summarization, we follow recommendations of the paper and use global attention only for the very first token. Finally, we make sure that no loss is computed on padded tokens by setting their index to -100."
   ]
  },
  {
   "cell_type": "code",
   "execution_count": 73,
   "id": "a19855f3",
   "metadata": {},
   "outputs": [],
   "source": [
    "def process_data_to_model_inputs(batch):\n",
    "    # tokenize the inputs and labels\n",
    "    #Returns a dictionary containing the encoded sequence or sequence pair \n",
    "    # and additional information: the mask for sequence classification and \n",
    "    # the overflowing elements if a max_length is specified.\n",
    "    inputs = tokenizer(\n",
    "        batch[\"article\"],\n",
    "        padding=\"max_length\",\n",
    "        truncation=True,\n",
    "        max_length=max_input_length,\n",
    "    )\n",
    "    outputs = tokenizer(\n",
    "        batch[\"abstract\"],\n",
    "        padding=\"max_length\",\n",
    "        truncation=True,\n",
    "        max_length=max_output_length,\n",
    "    )\n",
    "\n",
    "    #Hugingface tokenizer returns the attention mask and input ids.\n",
    "    #     input_ids: list of token ids to be fed to a model\n",
    "    # token_type_ids: list of token type ids to be fed to a model\n",
    "    # attention_mask: list of indices specifying which tokens should be attended to by the model\n",
    "    # overflowing_tokens: list of overflowing tokens sequences if a max length is specified and return_overflowing_tokens=True.\n",
    "    # special_tokens_mask: if adding special tokens, this is a list of [0, 1], with 0 specifying special added tokens and 1 specifying sequence tokens.\n",
    "    batch[\"input_ids\"] = inputs.input_ids\n",
    "    batch[\"attention_mask\"] = inputs.attention_mask\n",
    "\n",
    "    # create 0 global_attention_mask lists\n",
    "    # len(batch[\"input_ids\"]) = minibatch size ( or batch_size)\n",
    "    # len(batch[\"input_ids\"][0]) = max_input_length\n",
    "    # in effect a 2-d Python List of dimension (batch_size x max_input_length)    \n",
    "    batch[\"global_attention_mask\"] = len(batch[\"input_ids\"]) * [\n",
    "        [0 for _ in range(len(batch[\"input_ids\"][0]))]\n",
    "    ]\n",
    "\n",
    "    # since above lists are references, the following line changes the 0 index for all samples\n",
    "    batch[\"global_attention_mask\"][0][0] = 1\n",
    "    batch[\"labels\"] = outputs.input_ids\n",
    "\n",
    "    # We have to make sure that the PAD token is ignored. current pad_token_id is = 1 in this model\n",
    "    # batch labels is the output tokenizer dimension (batch_size x max_output_length)\n",
    "    batch[\"labels\"] = [\n",
    "        [-100 if token == tokenizer.pad_token_id else token for token in labels]\n",
    "        for labels in batch[\"labels\"]\n",
    "    ]\n",
    "\n",
    "    return batch"
   ]
  },
  {
   "cell_type": "code",
   "execution_count": null,
   "id": "e015e67a",
   "metadata": {},
   "outputs": [],
   "source": []
  },
  {
   "cell_type": "markdown",
   "id": "8511d432",
   "metadata": {},
   "source": [
    "Downsample for EDA and development!"
   ]
  },
  {
   "cell_type": "code",
   "execution_count": 74,
   "id": "39695dda",
   "metadata": {},
   "outputs": [],
   "source": [
    "train_dataset = train_dataset.select(range(250))\n",
    "# val_dataset = val_dataset.select(range(25))"
   ]
  },
  {
   "cell_type": "code",
   "execution_count": 75,
   "id": "2bfbc703",
   "metadata": {},
   "outputs": [
    {
     "name": "stderr",
     "output_type": "stream",
     "text": [
      "                                                             \r"
     ]
    }
   ],
   "source": [
    "train_dataset = train_dataset.map(\n",
    "    process_data_to_model_inputs,\n",
    "    batched=True,\n",
    "    batch_size=batch_size,\n",
    "    remove_columns=[\"article\", \"abstract\", \"section_names\"],\n",
    ")"
   ]
  },
  {
   "cell_type": "code",
   "execution_count": null,
   "id": "f73027d1",
   "metadata": {},
   "outputs": [],
   "source": [
    "# val_dataset = val_dataset.map(\n",
    "#     process_data_to_model_inputs,\n",
    "#     batched=True,\n",
    "#     batch_size=batch_size,\n",
    "#     remove_columns=[\"article\", \"abstract\", \"section_names\"],\n",
    "# )"
   ]
  },
  {
   "cell_type": "markdown",
   "id": "c7b57a73",
   "metadata": {},
   "source": [
    "Dataset to Torch format"
   ]
  },
  {
   "cell_type": "code",
   "execution_count": null,
   "id": "8fee9683",
   "metadata": {},
   "outputs": [],
   "source": [
    "train_dataset.set_format(\n",
    "    type=\"torch\",\n",
    "    columns=[\"input_ids\", \"attention_mask\", \"global_attention_mask\", \"labels\"],\n",
    ")\n",
    "val_dataset.set_format(\n",
    "    type=\"torch\",\n",
    "    columns=[\"input_ids\", \"attention_mask\", \"global_attention_mask\", \"labels\"],\n",
    ")"
   ]
  },
  {
   "cell_type": "markdown",
   "id": "c04ae011",
   "metadata": {},
   "source": [
    "Load the model via the AutoModelForSeq2SeqLM class."
   ]
  },
  {
   "cell_type": "code",
   "execution_count": 77,
   "id": "ea8afbd9",
   "metadata": {},
   "outputs": [],
   "source": [
    "from transformers import AutoModelForSeq2SeqLM"
   ]
  },
  {
   "cell_type": "markdown",
   "id": "2417d87c",
   "metadata": {},
   "source": [
    "#### Tradeoff just in EDA: We've decided to stick to the smaller model \"allenai/led-base-16384\" for the sake of this notebook. In addition, we directly enable gradient checkpointing and disable the caching mechanism to save memory."
   ]
  },
  {
   "cell_type": "code",
   "execution_count": 78,
   "id": "245d09c7",
   "metadata": {},
   "outputs": [
    {
     "name": "stderr",
     "output_type": "stream",
     "text": [
      "Downloading pytorch_model.bin: 100%|██████████| 648M/648M [00:01<00:00, 354MB/s]  \n",
      "Downloading (…)neration_config.json: 100%|██████████| 168/168 [00:00<00:00, 166kB/s]\n"
     ]
    }
   ],
   "source": [
    "led = AutoModelForSeq2SeqLM.from_pretrained(\"allenai/led-base-16384\",\n",
    "                                            gradient_checkpointing=True,\n",
    "                                            use_cache=False)"
   ]
  },
  {
   "cell_type": "code",
   "execution_count": null,
   "id": "f049e0d3",
   "metadata": {},
   "outputs": [],
   "source": []
  },
  {
   "cell_type": "markdown",
   "id": "05528cb3",
   "metadata": {},
   "source": [
    "During training: we need to evaluate the model on Rouge\n",
    "\n",
    "ROUGE score: https://torchmetrics.readthedocs.io/en/stable/text/rouge_score.html\n",
    "Per Wikipedia: Recall-Oriented Understudy for Gisting Evaluation. It's a set of metrics and a software package used for evaluating automatic summarization and machine translation software in natural language processing. The metrics compare an automatically produced summary or translation against a reference or a set of references (human-produced) summary or translation.\n",
    "\n",
    "ROUGE is currently the most well used summarization metrics (as proposed in Milestone #1) that we will use.\n",
    "\n",
    "Setting fitting generation parameters for loss calculation.\n",
    "\n",
    "- beam search with a small beam of just 2 to save memory. \n",
    "- force the model to generate at least 100 tokens, but no more than 512.\n",
    "- setting earlyt stopping and no_repeat_ngram to prevent spurious repetition"
   ]
  },
  {
   "cell_type": "code",
   "execution_count": 80,
   "id": "a45c8f0a",
   "metadata": {},
   "outputs": [],
   "source": [
    "# set generate hyperparameters\n",
    "led.config.num_beams = 2\n",
    "led.config.max_length = 512\n",
    "led.config.min_length = 100\n",
    "led.config.length_penalty = 2.0\n",
    "led.config.early_stopping = True\n",
    "led.config.no_repeat_ngram_size = 3"
   ]
  },
  {
   "cell_type": "code",
   "execution_count": 81,
   "id": "8e8024d1",
   "metadata": {},
   "outputs": [
    {
     "name": "stderr",
     "output_type": "stream",
     "text": [
      "/tmp/ipykernel_443/4132584981.py:1: FutureWarning: load_metric is deprecated and will be removed in the next major version of datasets. Use 'evaluate.load' instead, from the new library 🤗 Evaluate: https://huggingface.co/docs/evaluate\n",
      "  rouge = load_metric(\"rouge\")\n",
      "Downloading builder script: 5.65kB [00:00, 3.01MB/s]                   \n"
     ]
    },
    {
     "ename": "ImportError",
     "evalue": "To be able to use rouge, you need to install the following dependency: rouge_score.\nPlease install it using 'pip install rouge_score' for instance.",
     "output_type": "error",
     "traceback": [
      "\u001b[0;31m---------------------------------------------------------------------------\u001b[0m",
      "\u001b[0;31mImportError\u001b[0m                               Traceback (most recent call last)",
      "Cell \u001b[0;32mIn[81], line 1\u001b[0m\n\u001b[0;32m----> 1\u001b[0m rouge \u001b[38;5;241m=\u001b[39m \u001b[43mload_metric\u001b[49m\u001b[43m(\u001b[49m\u001b[38;5;124;43m\"\u001b[39;49m\u001b[38;5;124;43mrouge\u001b[39;49m\u001b[38;5;124;43m\"\u001b[39;49m\u001b[43m)\u001b[49m\n",
      "File \u001b[0;32m/opt/conda/envs/cs109b/lib/python3.11/site-packages/datasets/utils/deprecation_utils.py:46\u001b[0m, in \u001b[0;36mdeprecated.<locals>.decorator.<locals>.wrapper\u001b[0;34m(*args, **kwargs)\u001b[0m\n\u001b[1;32m     44\u001b[0m     warnings\u001b[38;5;241m.\u001b[39mwarn(warning_msg, category\u001b[38;5;241m=\u001b[39m\u001b[38;5;167;01mFutureWarning\u001b[39;00m, stacklevel\u001b[38;5;241m=\u001b[39m\u001b[38;5;241m2\u001b[39m)\n\u001b[1;32m     45\u001b[0m     _emitted_deprecation_warnings\u001b[38;5;241m.\u001b[39madd(func_hash)\n\u001b[0;32m---> 46\u001b[0m \u001b[38;5;28;01mreturn\u001b[39;00m \u001b[43mdeprecated_function\u001b[49m\u001b[43m(\u001b[49m\u001b[38;5;241;43m*\u001b[39;49m\u001b[43margs\u001b[49m\u001b[43m,\u001b[49m\u001b[43m \u001b[49m\u001b[38;5;241;43m*\u001b[39;49m\u001b[38;5;241;43m*\u001b[39;49m\u001b[43mkwargs\u001b[49m\u001b[43m)\u001b[49m\n",
      "File \u001b[0;32m/opt/conda/envs/cs109b/lib/python3.11/site-packages/datasets/load.py:1381\u001b[0m, in \u001b[0;36mload_metric\u001b[0;34m(path, config_name, process_id, num_process, cache_dir, experiment_id, keep_in_memory, download_config, download_mode, revision, **metric_init_kwargs)\u001b[0m\n\u001b[1;32m   1378\u001b[0m warnings\u001b[38;5;241m.\u001b[39mfilterwarnings(\u001b[38;5;124m\"\u001b[39m\u001b[38;5;124mignore\u001b[39m\u001b[38;5;124m\"\u001b[39m, message\u001b[38;5;241m=\u001b[39m\u001b[38;5;124m\"\u001b[39m\u001b[38;5;124m.*https://huggingface.co/docs/evaluate$\u001b[39m\u001b[38;5;124m\"\u001b[39m, category\u001b[38;5;241m=\u001b[39m\u001b[38;5;167;01mFutureWarning\u001b[39;00m)\n\u001b[1;32m   1380\u001b[0m download_mode \u001b[38;5;241m=\u001b[39m DownloadMode(download_mode \u001b[38;5;129;01mor\u001b[39;00m DownloadMode\u001b[38;5;241m.\u001b[39mREUSE_DATASET_IF_EXISTS)\n\u001b[0;32m-> 1381\u001b[0m metric_module \u001b[38;5;241m=\u001b[39m \u001b[43mmetric_module_factory\u001b[49m\u001b[43m(\u001b[49m\n\u001b[1;32m   1382\u001b[0m \u001b[43m    \u001b[49m\u001b[43mpath\u001b[49m\u001b[43m,\u001b[49m\u001b[43m \u001b[49m\u001b[43mrevision\u001b[49m\u001b[38;5;241;43m=\u001b[39;49m\u001b[43mrevision\u001b[49m\u001b[43m,\u001b[49m\u001b[43m \u001b[49m\u001b[43mdownload_config\u001b[49m\u001b[38;5;241;43m=\u001b[39;49m\u001b[43mdownload_config\u001b[49m\u001b[43m,\u001b[49m\u001b[43m \u001b[49m\u001b[43mdownload_mode\u001b[49m\u001b[38;5;241;43m=\u001b[39;49m\u001b[43mdownload_mode\u001b[49m\n\u001b[1;32m   1383\u001b[0m \u001b[43m\u001b[49m\u001b[43m)\u001b[49m\u001b[38;5;241m.\u001b[39mmodule_path\n\u001b[1;32m   1384\u001b[0m metric_cls \u001b[38;5;241m=\u001b[39m import_main_class(metric_module, dataset\u001b[38;5;241m=\u001b[39m\u001b[38;5;28;01mFalse\u001b[39;00m)\n\u001b[1;32m   1385\u001b[0m metric \u001b[38;5;241m=\u001b[39m metric_cls(\n\u001b[1;32m   1386\u001b[0m     config_name\u001b[38;5;241m=\u001b[39mconfig_name,\n\u001b[1;32m   1387\u001b[0m     process_id\u001b[38;5;241m=\u001b[39mprocess_id,\n\u001b[0;32m   (...)\u001b[0m\n\u001b[1;32m   1392\u001b[0m     \u001b[38;5;241m*\u001b[39m\u001b[38;5;241m*\u001b[39mmetric_init_kwargs,\n\u001b[1;32m   1393\u001b[0m )\n",
      "File \u001b[0;32m/opt/conda/envs/cs109b/lib/python3.11/site-packages/datasets/utils/deprecation_utils.py:46\u001b[0m, in \u001b[0;36mdeprecated.<locals>.decorator.<locals>.wrapper\u001b[0;34m(*args, **kwargs)\u001b[0m\n\u001b[1;32m     44\u001b[0m     warnings\u001b[38;5;241m.\u001b[39mwarn(warning_msg, category\u001b[38;5;241m=\u001b[39m\u001b[38;5;167;01mFutureWarning\u001b[39;00m, stacklevel\u001b[38;5;241m=\u001b[39m\u001b[38;5;241m2\u001b[39m)\n\u001b[1;32m     45\u001b[0m     _emitted_deprecation_warnings\u001b[38;5;241m.\u001b[39madd(func_hash)\n\u001b[0;32m---> 46\u001b[0m \u001b[38;5;28;01mreturn\u001b[39;00m \u001b[43mdeprecated_function\u001b[49m\u001b[43m(\u001b[49m\u001b[38;5;241;43m*\u001b[39;49m\u001b[43margs\u001b[49m\u001b[43m,\u001b[49m\u001b[43m \u001b[49m\u001b[38;5;241;43m*\u001b[39;49m\u001b[38;5;241;43m*\u001b[39;49m\u001b[43mkwargs\u001b[49m\u001b[43m)\u001b[49m\n",
      "File \u001b[0;32m/opt/conda/envs/cs109b/lib/python3.11/site-packages/datasets/load.py:1312\u001b[0m, in \u001b[0;36mmetric_module_factory\u001b[0;34m(path, revision, download_config, download_mode, dynamic_modules_path, **download_kwargs)\u001b[0m\n\u001b[1;32m   1310\u001b[0m         \u001b[38;5;28;01mexcept\u001b[39;00m \u001b[38;5;167;01mException\u001b[39;00m \u001b[38;5;28;01mas\u001b[39;00m e2:  \u001b[38;5;66;03m# noqa: if it's not in the cache, then it doesn't exist.\u001b[39;00m\n\u001b[1;32m   1311\u001b[0m             \u001b[38;5;28;01mif\u001b[39;00m \u001b[38;5;129;01mnot\u001b[39;00m \u001b[38;5;28misinstance\u001b[39m(e1, \u001b[38;5;167;01mFileNotFoundError\u001b[39;00m):\n\u001b[0;32m-> 1312\u001b[0m                 \u001b[38;5;28;01mraise\u001b[39;00m e1 \u001b[38;5;28;01mfrom\u001b[39;00m \u001b[38;5;28;01mNone\u001b[39;00m\n\u001b[1;32m   1313\u001b[0m             \u001b[38;5;28;01mraise\u001b[39;00m \u001b[38;5;167;01mFileNotFoundError\u001b[39;00m(\n\u001b[1;32m   1314\u001b[0m                 \u001b[38;5;124mf\u001b[39m\u001b[38;5;124m\"\u001b[39m\u001b[38;5;124mCouldn\u001b[39m\u001b[38;5;124m'\u001b[39m\u001b[38;5;124mt find a metric script at \u001b[39m\u001b[38;5;132;01m{\u001b[39;00mrelative_to_absolute_path(combined_path)\u001b[38;5;132;01m}\u001b[39;00m\u001b[38;5;124m. \u001b[39m\u001b[38;5;124m\"\u001b[39m\n\u001b[1;32m   1315\u001b[0m                 \u001b[38;5;124mf\u001b[39m\u001b[38;5;124m\"\u001b[39m\u001b[38;5;124mMetric \u001b[39m\u001b[38;5;124m'\u001b[39m\u001b[38;5;132;01m{\u001b[39;00mpath\u001b[38;5;132;01m}\u001b[39;00m\u001b[38;5;124m'\u001b[39m\u001b[38;5;124m doesn\u001b[39m\u001b[38;5;124m'\u001b[39m\u001b[38;5;124mt exist on the Hugging Face Hub either.\u001b[39m\u001b[38;5;124m\"\u001b[39m\n\u001b[1;32m   1316\u001b[0m             ) \u001b[38;5;28;01mfrom\u001b[39;00m \u001b[38;5;28;01mNone\u001b[39;00m\n\u001b[1;32m   1317\u001b[0m \u001b[38;5;28;01melse\u001b[39;00m:\n",
      "File \u001b[0;32m/opt/conda/envs/cs109b/lib/python3.11/site-packages/datasets/load.py:1304\u001b[0m, in \u001b[0;36mmetric_module_factory\u001b[0;34m(path, revision, download_config, download_mode, dynamic_modules_path, **download_kwargs)\u001b[0m\n\u001b[1;32m   1296\u001b[0m \u001b[38;5;28;01melif\u001b[39;00m is_relative_path(path) \u001b[38;5;129;01mand\u001b[39;00m path\u001b[38;5;241m.\u001b[39mcount(\u001b[38;5;124m\"\u001b[39m\u001b[38;5;124m/\u001b[39m\u001b[38;5;124m\"\u001b[39m) \u001b[38;5;241m==\u001b[39m \u001b[38;5;241m0\u001b[39m:\n\u001b[1;32m   1297\u001b[0m     \u001b[38;5;28;01mtry\u001b[39;00m:\n\u001b[1;32m   1298\u001b[0m         \u001b[38;5;28;01mreturn\u001b[39;00m \u001b[43mGithubMetricModuleFactory\u001b[49m\u001b[43m(\u001b[49m\n\u001b[1;32m   1299\u001b[0m \u001b[43m            \u001b[49m\u001b[43mpath\u001b[49m\u001b[43m,\u001b[49m\n\u001b[1;32m   1300\u001b[0m \u001b[43m            \u001b[49m\u001b[43mrevision\u001b[49m\u001b[38;5;241;43m=\u001b[39;49m\u001b[43mrevision\u001b[49m\u001b[43m,\u001b[49m\n\u001b[1;32m   1301\u001b[0m \u001b[43m            \u001b[49m\u001b[43mdownload_config\u001b[49m\u001b[38;5;241;43m=\u001b[39;49m\u001b[43mdownload_config\u001b[49m\u001b[43m,\u001b[49m\n\u001b[1;32m   1302\u001b[0m \u001b[43m            \u001b[49m\u001b[43mdownload_mode\u001b[49m\u001b[38;5;241;43m=\u001b[39;49m\u001b[43mdownload_mode\u001b[49m\u001b[43m,\u001b[49m\n\u001b[1;32m   1303\u001b[0m \u001b[43m            \u001b[49m\u001b[43mdynamic_modules_path\u001b[49m\u001b[38;5;241;43m=\u001b[39;49m\u001b[43mdynamic_modules_path\u001b[49m\u001b[43m,\u001b[49m\n\u001b[0;32m-> 1304\u001b[0m \u001b[43m        \u001b[49m\u001b[43m)\u001b[49m\u001b[38;5;241;43m.\u001b[39;49m\u001b[43mget_module\u001b[49m\u001b[43m(\u001b[49m\u001b[43m)\u001b[49m\n\u001b[1;32m   1305\u001b[0m     \u001b[38;5;28;01mexcept\u001b[39;00m (\n\u001b[1;32m   1306\u001b[0m         \u001b[38;5;167;01mException\u001b[39;00m\n\u001b[1;32m   1307\u001b[0m     ) \u001b[38;5;28;01mas\u001b[39;00m e1:  \u001b[38;5;66;03m# noqa: all the attempts failed, before raising the error we should check if the module is already cached.\u001b[39;00m\n\u001b[1;32m   1308\u001b[0m         \u001b[38;5;28;01mtry\u001b[39;00m:\n",
      "File \u001b[0;32m/opt/conda/envs/cs109b/lib/python3.11/site-packages/datasets/load.py:485\u001b[0m, in \u001b[0;36mGithubMetricModuleFactory.get_module\u001b[0;34m(self)\u001b[0m\n\u001b[1;32m    480\u001b[0m         logger\u001b[38;5;241m.\u001b[39mwarning(\n\u001b[1;32m    481\u001b[0m             \u001b[38;5;124mf\u001b[39m\u001b[38;5;124m\"\u001b[39m\u001b[38;5;124mCouldn\u001b[39m\u001b[38;5;124m'\u001b[39m\u001b[38;5;124mt find a directory or a metric named \u001b[39m\u001b[38;5;124m'\u001b[39m\u001b[38;5;132;01m{\u001b[39;00m\u001b[38;5;28mself\u001b[39m\u001b[38;5;241m.\u001b[39mname\u001b[38;5;132;01m}\u001b[39;00m\u001b[38;5;124m'\u001b[39m\u001b[38;5;124m in this version. \u001b[39m\u001b[38;5;124m\"\u001b[39m\n\u001b[1;32m    482\u001b[0m             \u001b[38;5;124mf\u001b[39m\u001b[38;5;124m\"\u001b[39m\u001b[38;5;124mIt was picked from the main branch on github instead.\u001b[39m\u001b[38;5;124m\"\u001b[39m\n\u001b[1;32m    483\u001b[0m         )\n\u001b[1;32m    484\u001b[0m imports \u001b[38;5;241m=\u001b[39m get_imports(local_path)\n\u001b[0;32m--> 485\u001b[0m local_imports \u001b[38;5;241m=\u001b[39m \u001b[43m_download_additional_modules\u001b[49m\u001b[43m(\u001b[49m\n\u001b[1;32m    486\u001b[0m \u001b[43m    \u001b[49m\u001b[43mname\u001b[49m\u001b[38;5;241;43m=\u001b[39;49m\u001b[38;5;28;43mself\u001b[39;49m\u001b[38;5;241;43m.\u001b[39;49m\u001b[43mname\u001b[49m\u001b[43m,\u001b[49m\n\u001b[1;32m    487\u001b[0m \u001b[43m    \u001b[49m\u001b[43mbase_path\u001b[49m\u001b[38;5;241;43m=\u001b[39;49m\u001b[43mhf_github_url\u001b[49m\u001b[43m(\u001b[49m\u001b[43mpath\u001b[49m\u001b[38;5;241;43m=\u001b[39;49m\u001b[38;5;28;43mself\u001b[39;49m\u001b[38;5;241;43m.\u001b[39;49m\u001b[43mname\u001b[49m\u001b[43m,\u001b[49m\u001b[43m \u001b[49m\u001b[43mname\u001b[49m\u001b[38;5;241;43m=\u001b[39;49m\u001b[38;5;124;43m\"\u001b[39;49m\u001b[38;5;124;43m\"\u001b[39;49m\u001b[43m,\u001b[49m\u001b[43m \u001b[49m\u001b[43mrevision\u001b[49m\u001b[38;5;241;43m=\u001b[39;49m\u001b[43mrevision\u001b[49m\u001b[43m,\u001b[49m\u001b[43m \u001b[49m\u001b[43mdataset\u001b[49m\u001b[38;5;241;43m=\u001b[39;49m\u001b[38;5;28;43;01mFalse\u001b[39;49;00m\u001b[43m)\u001b[49m\u001b[43m,\u001b[49m\n\u001b[1;32m    488\u001b[0m \u001b[43m    \u001b[49m\u001b[43mimports\u001b[49m\u001b[38;5;241;43m=\u001b[39;49m\u001b[43mimports\u001b[49m\u001b[43m,\u001b[49m\n\u001b[1;32m    489\u001b[0m \u001b[43m    \u001b[49m\u001b[43mdownload_config\u001b[49m\u001b[38;5;241;43m=\u001b[39;49m\u001b[38;5;28;43mself\u001b[39;49m\u001b[38;5;241;43m.\u001b[39;49m\u001b[43mdownload_config\u001b[49m\u001b[43m,\u001b[49m\n\u001b[1;32m    490\u001b[0m \u001b[43m\u001b[49m\u001b[43m)\u001b[49m\n\u001b[1;32m    491\u001b[0m \u001b[38;5;66;03m# copy the script and the files in an importable directory\u001b[39;00m\n\u001b[1;32m    492\u001b[0m dynamic_modules_path \u001b[38;5;241m=\u001b[39m \u001b[38;5;28mself\u001b[39m\u001b[38;5;241m.\u001b[39mdynamic_modules_path \u001b[38;5;28;01mif\u001b[39;00m \u001b[38;5;28mself\u001b[39m\u001b[38;5;241m.\u001b[39mdynamic_modules_path \u001b[38;5;28;01melse\u001b[39;00m init_dynamic_modules()\n",
      "File \u001b[0;32m/opt/conda/envs/cs109b/lib/python3.11/site-packages/datasets/load.py:222\u001b[0m, in \u001b[0;36m_download_additional_modules\u001b[0;34m(name, base_path, imports, download_config)\u001b[0m\n\u001b[1;32m    220\u001b[0m     \u001b[38;5;28;01mif\u001b[39;00m \u001b[38;5;124m\"\u001b[39m\u001b[38;5;124msklearn\u001b[39m\u001b[38;5;124m\"\u001b[39m \u001b[38;5;129;01min\u001b[39;00m needs_to_be_installed\u001b[38;5;241m.\u001b[39mkeys():\n\u001b[1;32m    221\u001b[0m         needs_to_be_installed[\u001b[38;5;124m\"\u001b[39m\u001b[38;5;124msklearn\u001b[39m\u001b[38;5;124m\"\u001b[39m] \u001b[38;5;241m=\u001b[39m \u001b[38;5;124m\"\u001b[39m\u001b[38;5;124mscikit-learn\u001b[39m\u001b[38;5;124m\"\u001b[39m\n\u001b[0;32m--> 222\u001b[0m     \u001b[38;5;28;01mraise\u001b[39;00m \u001b[38;5;167;01mImportError\u001b[39;00m(\n\u001b[1;32m    223\u001b[0m         \u001b[38;5;124mf\u001b[39m\u001b[38;5;124m\"\u001b[39m\u001b[38;5;124mTo be able to use \u001b[39m\u001b[38;5;132;01m{\u001b[39;00mname\u001b[38;5;132;01m}\u001b[39;00m\u001b[38;5;124m, you need to install the following \u001b[39m\u001b[38;5;132;01m{\u001b[39;00m_dependencies_str\u001b[38;5;132;01m}\u001b[39;00m\u001b[38;5;124m: \u001b[39m\u001b[38;5;124m\"\u001b[39m\n\u001b[1;32m    224\u001b[0m         \u001b[38;5;124mf\u001b[39m\u001b[38;5;124m\"\u001b[39m\u001b[38;5;132;01m{\u001b[39;00m\u001b[38;5;124m'\u001b[39m\u001b[38;5;124m, \u001b[39m\u001b[38;5;124m'\u001b[39m\u001b[38;5;241m.\u001b[39mjoin(needs_to_be_installed)\u001b[38;5;132;01m}\u001b[39;00m\u001b[38;5;124m.\u001b[39m\u001b[38;5;130;01m\\n\u001b[39;00m\u001b[38;5;124mPlease install \u001b[39m\u001b[38;5;132;01m{\u001b[39;00m_them_str\u001b[38;5;132;01m}\u001b[39;00m\u001b[38;5;124m using \u001b[39m\u001b[38;5;124m'\u001b[39m\u001b[38;5;124mpip install \u001b[39m\u001b[38;5;124m\"\u001b[39m\n\u001b[1;32m    225\u001b[0m         \u001b[38;5;124mf\u001b[39m\u001b[38;5;124m\"\u001b[39m\u001b[38;5;132;01m{\u001b[39;00m\u001b[38;5;124m'\u001b[39m\u001b[38;5;124m \u001b[39m\u001b[38;5;124m'\u001b[39m\u001b[38;5;241m.\u001b[39mjoin(needs_to_be_installed\u001b[38;5;241m.\u001b[39mvalues())\u001b[38;5;132;01m}\u001b[39;00m\u001b[38;5;124m'\u001b[39m\u001b[38;5;124m for instance.\u001b[39m\u001b[38;5;124m\"\u001b[39m\n\u001b[1;32m    226\u001b[0m     )\n\u001b[1;32m    227\u001b[0m \u001b[38;5;28;01mreturn\u001b[39;00m local_imports\n",
      "\u001b[0;31mImportError\u001b[0m: To be able to use rouge, you need to install the following dependency: rouge_score.\nPlease install it using 'pip install rouge_score' for instance."
     ]
    }
   ],
   "source": [
    "rouge = load_metric(\"rouge\")"
   ]
  },
  {
   "cell_type": "code",
   "execution_count": null,
   "id": "aff7673c",
   "metadata": {},
   "outputs": [],
   "source": []
  },
  {
   "cell_type": "code",
   "execution_count": null,
   "id": "1ad7b7d4",
   "metadata": {},
   "outputs": [],
   "source": []
  },
  {
   "cell_type": "code",
   "execution_count": null,
   "id": "86b3e05b",
   "metadata": {},
   "outputs": [],
   "source": []
  },
  {
   "cell_type": "code",
   "execution_count": null,
   "id": "cd06fbb8",
   "metadata": {},
   "outputs": [],
   "source": []
  },
  {
   "cell_type": "code",
   "execution_count": null,
   "id": "a4dedef4",
   "metadata": {},
   "outputs": [],
   "source": []
  }
 ],
 "metadata": {
  "kernelspec": {
   "display_name": "Python 3 (ipykernel)",
   "language": "python",
   "name": "python3"
  },
  "language_info": {
   "codemirror_mode": {
    "name": "ipython",
    "version": 3
   },
   "file_extension": ".py",
   "mimetype": "text/x-python",
   "name": "python",
   "nbconvert_exporter": "python",
   "pygments_lexer": "ipython3",
   "version": "3.11.1"
  }
 },
 "nbformat": 4,
 "nbformat_minor": 5
}
