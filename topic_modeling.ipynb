{
 "cells": [
  {
   "attachments": {},
   "cell_type": "markdown",
   "metadata": {},
   "source": [
    "## Topic Modeling with LDA\n",
    "\n",
    "In this section we develop a topic model using Latent Dirichlet Allocation (LDA) to discover unobserved themes across papers. This may have practical value in the following ways: \n",
    "\n",
    "1. Uncovering nontrivial relationships between disparate fields of research \n",
    "2. Organizing papers into useful categories\n",
    "3. Navigating citations based on their usage in papers within & across categories"
   ]
  },
  {
   "attachments": {},
   "cell_type": "markdown",
   "metadata": {},
   "source": [
    "#### Step 1: Import & Preprocess Data"
   ]
  },
  {
   "cell_type": "code",
   "execution_count": 108,
   "metadata": {},
   "outputs": [
    {
     "name": "stderr",
     "output_type": "stream",
     "text": [
      "[nltk_data] Downloading package wordnet to\n",
      "[nltk_data]     /Users/mattroth/nltk_data...\n",
      "[nltk_data]   Package wordnet is already up-to-date!\n"
     ]
    }
   ],
   "source": [
    "import pandas as pd\n",
    "import numpy as np\n",
    "import matplotlib.pyplot as plt \n",
    "import seaborn as sns\n",
    "from sklearn.feature_extraction.text import TfidfVectorizer\n",
    "from sklearn.feature_extraction import text\n",
    "import nltk\n",
    "nltk.download('wordnet')\n",
    "from nltk.stem import WordNetLemmatizer\n",
    "from nltk.tokenize import RegexpTokenizer\n",
    "from sklearn.decomposition import LatentDirichletAllocation as LDA\n",
    "from datasets import load_dataset"
   ]
  },
  {
   "cell_type": "code",
   "execution_count": 77,
   "metadata": {},
   "outputs": [
    {
     "name": "stderr",
     "output_type": "stream",
     "text": [
      "Found cached dataset scientific_papers (/Users/mattroth/.cache/huggingface/datasets/scientific_papers/pubmed/1.1.1/306757013fb6f37089b6a75469e6638a553bd9f009484938d8f75a4c5e84206f)\n"
     ]
    }
   ],
   "source": [
    "# Load pubmed dataset from huggingface\n",
    "articles = load_dataset(\"scientific_papers\", \"pubmed\", split=\"train\")\n",
    "df_articles = pd.DataFrame(articles)"
   ]
  },
  {
   "cell_type": "code",
   "execution_count": 78,
   "metadata": {},
   "outputs": [
    {
     "data": {
      "text/html": [
       "<div>\n",
       "<style scoped>\n",
       "    .dataframe tbody tr th:only-of-type {\n",
       "        vertical-align: middle;\n",
       "    }\n",
       "\n",
       "    .dataframe tbody tr th {\n",
       "        vertical-align: top;\n",
       "    }\n",
       "\n",
       "    .dataframe thead th {\n",
       "        text-align: right;\n",
       "    }\n",
       "</style>\n",
       "<table border=\"1\" class=\"dataframe\">\n",
       "  <thead>\n",
       "    <tr style=\"text-align: right;\">\n",
       "      <th></th>\n",
       "      <th>article</th>\n",
       "      <th>abstract</th>\n",
       "      <th>section_names</th>\n",
       "    </tr>\n",
       "  </thead>\n",
       "  <tbody>\n",
       "    <tr>\n",
       "      <th>0</th>\n",
       "      <td>a recent systematic analysis showed that in 20...</td>\n",
       "      <td>background : the present study was carried ou...</td>\n",
       "      <td>INTRODUCTION\\nMATERIALS AND METHODS\\nParticipa...</td>\n",
       "    </tr>\n",
       "    <tr>\n",
       "      <th>1</th>\n",
       "      <td>it occurs in more than 50% of patients and may...</td>\n",
       "      <td>backgroundanemia in patients with cancer who ...</td>\n",
       "      <td>Introduction\\nPatients and methods\\nStudy desi...</td>\n",
       "    </tr>\n",
       "    <tr>\n",
       "      <th>2</th>\n",
       "      <td>tardive dystonia ( td ) , a rarer side effect ...</td>\n",
       "      <td>tardive dystonia ( td ) is a serious side eff...</td>\n",
       "      <td>INTRODUCTION\\nCASE REPORT\\nDISCUSSION\\nDeclara...</td>\n",
       "    </tr>\n",
       "    <tr>\n",
       "      <th>3</th>\n",
       "      <td>lepidoptera include agricultural pests that , ...</td>\n",
       "      <td>many lepidopteran insects are agricultural pe...</td>\n",
       "      <td>1. Introduction\\n2. Insect Immunity\\n3. Signal...</td>\n",
       "    </tr>\n",
       "    <tr>\n",
       "      <th>4</th>\n",
       "      <td>syncope is caused by transient diffuse cerebra...</td>\n",
       "      <td>we present an unusual case of recurrent cough...</td>\n",
       "      <td>Introduction\\nCase report\\nDiscussion\\nConflic...</td>\n",
       "    </tr>\n",
       "  </tbody>\n",
       "</table>\n",
       "</div>"
      ],
      "text/plain": [
       "                                             article  \\\n",
       "0  a recent systematic analysis showed that in 20...   \n",
       "1  it occurs in more than 50% of patients and may...   \n",
       "2  tardive dystonia ( td ) , a rarer side effect ...   \n",
       "3  lepidoptera include agricultural pests that , ...   \n",
       "4  syncope is caused by transient diffuse cerebra...   \n",
       "\n",
       "                                            abstract  \\\n",
       "0   background : the present study was carried ou...   \n",
       "1   backgroundanemia in patients with cancer who ...   \n",
       "2   tardive dystonia ( td ) is a serious side eff...   \n",
       "3   many lepidopteran insects are agricultural pe...   \n",
       "4   we present an unusual case of recurrent cough...   \n",
       "\n",
       "                                       section_names  \n",
       "0  INTRODUCTION\\nMATERIALS AND METHODS\\nParticipa...  \n",
       "1  Introduction\\nPatients and methods\\nStudy desi...  \n",
       "2  INTRODUCTION\\nCASE REPORT\\nDISCUSSION\\nDeclara...  \n",
       "3  1. Introduction\\n2. Insect Immunity\\n3. Signal...  \n",
       "4  Introduction\\nCase report\\nDiscussion\\nConflic...  "
      ]
     },
     "execution_count": 78,
     "metadata": {},
     "output_type": "execute_result"
    }
   ],
   "source": [
    "# Inspect df_articles\n",
    "df_articles.head()"
   ]
  },
  {
   "cell_type": "code",
   "execution_count": 151,
   "metadata": {},
   "outputs": [
    {
     "ename": "KeyboardInterrupt",
     "evalue": "",
     "output_type": "error",
     "traceback": [
      "\u001b[0;31m---------------------------------------------------------------------------\u001b[0m",
      "\u001b[0;31mKeyboardInterrupt\u001b[0m                         Traceback (most recent call last)",
      "\u001b[0;32m/var/folders/hf/1k3w_wb93bd1yp7b5_jh65mw0000gn/T/ipykernel_55010/3638644558.py\u001b[0m in \u001b[0;36m<module>\u001b[0;34m\u001b[0m\n\u001b[1;32m      4\u001b[0m     \u001b[0;32mreturn\u001b[0m \u001b[0;34m[\u001b[0m\u001b[0mlem\u001b[0m\u001b[0;34m.\u001b[0m\u001b[0mlemmatize\u001b[0m\u001b[0;34m(\u001b[0m\u001b[0mw\u001b[0m\u001b[0;34m)\u001b[0m \u001b[0;32mfor\u001b[0m \u001b[0mw\u001b[0m \u001b[0;32min\u001b[0m \u001b[0mtokenizer\u001b[0m\u001b[0;34m.\u001b[0m\u001b[0mtokenize\u001b[0m\u001b[0;34m(\u001b[0m\u001b[0mtext\u001b[0m\u001b[0;34m)\u001b[0m\u001b[0;34m]\u001b[0m\u001b[0;34m\u001b[0m\u001b[0;34m\u001b[0m\u001b[0m\n\u001b[1;32m      5\u001b[0m \u001b[0;34m\u001b[0m\u001b[0m\n\u001b[0;32m----> 6\u001b[0;31m \u001b[0mdf_articles\u001b[0m\u001b[0;34m[\u001b[0m\u001b[0;34m'article_lemmatized'\u001b[0m\u001b[0;34m]\u001b[0m \u001b[0;34m=\u001b[0m \u001b[0mdf_articles\u001b[0m\u001b[0;34m[\u001b[0m\u001b[0;34m\"article\"\u001b[0m\u001b[0;34m]\u001b[0m\u001b[0;34m.\u001b[0m\u001b[0mapply\u001b[0m\u001b[0;34m(\u001b[0m\u001b[0;32mlambda\u001b[0m \u001b[0mx\u001b[0m\u001b[0;34m:\u001b[0m \u001b[0mlemmatize_text\u001b[0m\u001b[0;34m(\u001b[0m\u001b[0mx\u001b[0m\u001b[0;34m)\u001b[0m\u001b[0;34m)\u001b[0m\u001b[0;34m\u001b[0m\u001b[0;34m\u001b[0m\u001b[0m\n\u001b[0m\u001b[1;32m      7\u001b[0m \u001b[0mdf_articles\u001b[0m\u001b[0;34m[\u001b[0m\u001b[0;34m\"article_lemmatized\"\u001b[0m\u001b[0;34m]\u001b[0m \u001b[0;34m=\u001b[0m \u001b[0mdf_articles\u001b[0m\u001b[0;34m[\u001b[0m\u001b[0;34m\"article_lemmatized\"\u001b[0m\u001b[0;34m]\u001b[0m\u001b[0;34m.\u001b[0m\u001b[0mapply\u001b[0m\u001b[0;34m(\u001b[0m\u001b[0;32mlambda\u001b[0m \u001b[0mx\u001b[0m\u001b[0;34m:\u001b[0m \u001b[0;34m\" \"\u001b[0m\u001b[0;34m.\u001b[0m\u001b[0mjoin\u001b[0m\u001b[0;34m(\u001b[0m\u001b[0mx\u001b[0m\u001b[0;34m)\u001b[0m\u001b[0;34m)\u001b[0m\u001b[0;34m\u001b[0m\u001b[0;34m\u001b[0m\u001b[0m\n\u001b[1;32m      8\u001b[0m \u001b[0;34m\u001b[0m\u001b[0m\n",
      "\u001b[0;32m/opt/anaconda3/lib/python3.9/site-packages/pandas/core/series.py\u001b[0m in \u001b[0;36mapply\u001b[0;34m(self, func, convert_dtype, args, **kwargs)\u001b[0m\n\u001b[1;32m   4769\u001b[0m         \u001b[0mdtype\u001b[0m\u001b[0;34m:\u001b[0m \u001b[0mfloat64\u001b[0m\u001b[0;34m\u001b[0m\u001b[0;34m\u001b[0m\u001b[0m\n\u001b[1;32m   4770\u001b[0m         \"\"\"\n\u001b[0;32m-> 4771\u001b[0;31m         \u001b[0;32mreturn\u001b[0m \u001b[0mSeriesApply\u001b[0m\u001b[0;34m(\u001b[0m\u001b[0mself\u001b[0m\u001b[0;34m,\u001b[0m \u001b[0mfunc\u001b[0m\u001b[0;34m,\u001b[0m \u001b[0mconvert_dtype\u001b[0m\u001b[0;34m,\u001b[0m \u001b[0margs\u001b[0m\u001b[0;34m,\u001b[0m \u001b[0mkwargs\u001b[0m\u001b[0;34m)\u001b[0m\u001b[0;34m.\u001b[0m\u001b[0mapply\u001b[0m\u001b[0;34m(\u001b[0m\u001b[0;34m)\u001b[0m\u001b[0;34m\u001b[0m\u001b[0;34m\u001b[0m\u001b[0m\n\u001b[0m\u001b[1;32m   4772\u001b[0m \u001b[0;34m\u001b[0m\u001b[0m\n\u001b[1;32m   4773\u001b[0m     def _reduce(\n",
      "\u001b[0;32m/opt/anaconda3/lib/python3.9/site-packages/pandas/core/apply.py\u001b[0m in \u001b[0;36mapply\u001b[0;34m(self)\u001b[0m\n\u001b[1;32m   1121\u001b[0m \u001b[0;34m\u001b[0m\u001b[0m\n\u001b[1;32m   1122\u001b[0m         \u001b[0;31m# self.f is Callable\u001b[0m\u001b[0;34m\u001b[0m\u001b[0;34m\u001b[0m\u001b[0m\n\u001b[0;32m-> 1123\u001b[0;31m         \u001b[0;32mreturn\u001b[0m \u001b[0mself\u001b[0m\u001b[0;34m.\u001b[0m\u001b[0mapply_standard\u001b[0m\u001b[0;34m(\u001b[0m\u001b[0;34m)\u001b[0m\u001b[0;34m\u001b[0m\u001b[0;34m\u001b[0m\u001b[0m\n\u001b[0m\u001b[1;32m   1124\u001b[0m \u001b[0;34m\u001b[0m\u001b[0m\n\u001b[1;32m   1125\u001b[0m     \u001b[0;32mdef\u001b[0m \u001b[0magg\u001b[0m\u001b[0;34m(\u001b[0m\u001b[0mself\u001b[0m\u001b[0;34m)\u001b[0m\u001b[0;34m:\u001b[0m\u001b[0;34m\u001b[0m\u001b[0;34m\u001b[0m\u001b[0m\n",
      "\u001b[0;32m/opt/anaconda3/lib/python3.9/site-packages/pandas/core/apply.py\u001b[0m in \u001b[0;36mapply_standard\u001b[0;34m(self)\u001b[0m\n\u001b[1;32m   1172\u001b[0m             \u001b[0;32melse\u001b[0m\u001b[0;34m:\u001b[0m\u001b[0;34m\u001b[0m\u001b[0;34m\u001b[0m\u001b[0m\n\u001b[1;32m   1173\u001b[0m                 \u001b[0mvalues\u001b[0m \u001b[0;34m=\u001b[0m \u001b[0mobj\u001b[0m\u001b[0;34m.\u001b[0m\u001b[0mastype\u001b[0m\u001b[0;34m(\u001b[0m\u001b[0mobject\u001b[0m\u001b[0;34m)\u001b[0m\u001b[0;34m.\u001b[0m\u001b[0m_values\u001b[0m\u001b[0;34m\u001b[0m\u001b[0;34m\u001b[0m\u001b[0m\n\u001b[0;32m-> 1174\u001b[0;31m                 mapped = lib.map_infer(\n\u001b[0m\u001b[1;32m   1175\u001b[0m                     \u001b[0mvalues\u001b[0m\u001b[0;34m,\u001b[0m\u001b[0;34m\u001b[0m\u001b[0;34m\u001b[0m\u001b[0m\n\u001b[1;32m   1176\u001b[0m                     \u001b[0mf\u001b[0m\u001b[0;34m,\u001b[0m\u001b[0;34m\u001b[0m\u001b[0;34m\u001b[0m\u001b[0m\n",
      "\u001b[0;32m/opt/anaconda3/lib/python3.9/site-packages/pandas/_libs/lib.pyx\u001b[0m in \u001b[0;36mpandas._libs.lib.map_infer\u001b[0;34m()\u001b[0m\n",
      "\u001b[0;32m/var/folders/hf/1k3w_wb93bd1yp7b5_jh65mw0000gn/T/ipykernel_55010/3638644558.py\u001b[0m in \u001b[0;36m<lambda>\u001b[0;34m(x)\u001b[0m\n\u001b[1;32m      4\u001b[0m     \u001b[0;32mreturn\u001b[0m \u001b[0;34m[\u001b[0m\u001b[0mlem\u001b[0m\u001b[0;34m.\u001b[0m\u001b[0mlemmatize\u001b[0m\u001b[0;34m(\u001b[0m\u001b[0mw\u001b[0m\u001b[0;34m)\u001b[0m \u001b[0;32mfor\u001b[0m \u001b[0mw\u001b[0m \u001b[0;32min\u001b[0m \u001b[0mtokenizer\u001b[0m\u001b[0;34m.\u001b[0m\u001b[0mtokenize\u001b[0m\u001b[0;34m(\u001b[0m\u001b[0mtext\u001b[0m\u001b[0;34m)\u001b[0m\u001b[0;34m]\u001b[0m\u001b[0;34m\u001b[0m\u001b[0;34m\u001b[0m\u001b[0m\n\u001b[1;32m      5\u001b[0m \u001b[0;34m\u001b[0m\u001b[0m\n\u001b[0;32m----> 6\u001b[0;31m \u001b[0mdf_articles\u001b[0m\u001b[0;34m[\u001b[0m\u001b[0;34m'article_lemmatized'\u001b[0m\u001b[0;34m]\u001b[0m \u001b[0;34m=\u001b[0m \u001b[0mdf_articles\u001b[0m\u001b[0;34m[\u001b[0m\u001b[0;34m\"article\"\u001b[0m\u001b[0;34m]\u001b[0m\u001b[0;34m.\u001b[0m\u001b[0mapply\u001b[0m\u001b[0;34m(\u001b[0m\u001b[0;32mlambda\u001b[0m \u001b[0mx\u001b[0m\u001b[0;34m:\u001b[0m \u001b[0mlemmatize_text\u001b[0m\u001b[0;34m(\u001b[0m\u001b[0mx\u001b[0m\u001b[0;34m)\u001b[0m\u001b[0;34m)\u001b[0m\u001b[0;34m\u001b[0m\u001b[0;34m\u001b[0m\u001b[0m\n\u001b[0m\u001b[1;32m      7\u001b[0m \u001b[0mdf_articles\u001b[0m\u001b[0;34m[\u001b[0m\u001b[0;34m\"article_lemmatized\"\u001b[0m\u001b[0;34m]\u001b[0m \u001b[0;34m=\u001b[0m \u001b[0mdf_articles\u001b[0m\u001b[0;34m[\u001b[0m\u001b[0;34m\"article_lemmatized\"\u001b[0m\u001b[0;34m]\u001b[0m\u001b[0;34m.\u001b[0m\u001b[0mapply\u001b[0m\u001b[0;34m(\u001b[0m\u001b[0;32mlambda\u001b[0m \u001b[0mx\u001b[0m\u001b[0;34m:\u001b[0m \u001b[0;34m\" \"\u001b[0m\u001b[0;34m.\u001b[0m\u001b[0mjoin\u001b[0m\u001b[0;34m(\u001b[0m\u001b[0mx\u001b[0m\u001b[0;34m)\u001b[0m\u001b[0;34m)\u001b[0m\u001b[0;34m\u001b[0m\u001b[0;34m\u001b[0m\u001b[0m\n\u001b[1;32m      8\u001b[0m \u001b[0;34m\u001b[0m\u001b[0m\n",
      "\u001b[0;32m/var/folders/hf/1k3w_wb93bd1yp7b5_jh65mw0000gn/T/ipykernel_55010/3638644558.py\u001b[0m in \u001b[0;36mlemmatize_text\u001b[0;34m(text)\u001b[0m\n\u001b[1;32m      2\u001b[0m \u001b[0mlem\u001b[0m \u001b[0;34m=\u001b[0m \u001b[0mWordNetLemmatizer\u001b[0m\u001b[0;34m(\u001b[0m\u001b[0;34m)\u001b[0m\u001b[0;34m\u001b[0m\u001b[0;34m\u001b[0m\u001b[0m\n\u001b[1;32m      3\u001b[0m \u001b[0;32mdef\u001b[0m \u001b[0mlemmatize_text\u001b[0m\u001b[0;34m(\u001b[0m\u001b[0mtext\u001b[0m\u001b[0;34m)\u001b[0m\u001b[0;34m:\u001b[0m\u001b[0;34m\u001b[0m\u001b[0;34m\u001b[0m\u001b[0m\n\u001b[0;32m----> 4\u001b[0;31m     \u001b[0;32mreturn\u001b[0m \u001b[0;34m[\u001b[0m\u001b[0mlem\u001b[0m\u001b[0;34m.\u001b[0m\u001b[0mlemmatize\u001b[0m\u001b[0;34m(\u001b[0m\u001b[0mw\u001b[0m\u001b[0;34m)\u001b[0m \u001b[0;32mfor\u001b[0m \u001b[0mw\u001b[0m \u001b[0;32min\u001b[0m \u001b[0mtokenizer\u001b[0m\u001b[0;34m.\u001b[0m\u001b[0mtokenize\u001b[0m\u001b[0;34m(\u001b[0m\u001b[0mtext\u001b[0m\u001b[0;34m)\u001b[0m\u001b[0;34m]\u001b[0m\u001b[0;34m\u001b[0m\u001b[0;34m\u001b[0m\u001b[0m\n\u001b[0m\u001b[1;32m      5\u001b[0m \u001b[0;34m\u001b[0m\u001b[0m\n\u001b[1;32m      6\u001b[0m \u001b[0mdf_articles\u001b[0m\u001b[0;34m[\u001b[0m\u001b[0;34m'article_lemmatized'\u001b[0m\u001b[0;34m]\u001b[0m \u001b[0;34m=\u001b[0m \u001b[0mdf_articles\u001b[0m\u001b[0;34m[\u001b[0m\u001b[0;34m\"article\"\u001b[0m\u001b[0;34m]\u001b[0m\u001b[0;34m.\u001b[0m\u001b[0mapply\u001b[0m\u001b[0;34m(\u001b[0m\u001b[0;32mlambda\u001b[0m \u001b[0mx\u001b[0m\u001b[0;34m:\u001b[0m \u001b[0mlemmatize_text\u001b[0m\u001b[0;34m(\u001b[0m\u001b[0mx\u001b[0m\u001b[0;34m)\u001b[0m\u001b[0;34m)\u001b[0m\u001b[0;34m\u001b[0m\u001b[0;34m\u001b[0m\u001b[0m\n",
      "\u001b[0;32m/opt/anaconda3/lib/python3.9/site-packages/nltk/tokenize/regexp.py\u001b[0m in \u001b[0;36mtokenize\u001b[0;34m(self, text)\u001b[0m\n\u001b[1;32m    131\u001b[0m         \u001b[0;31m# If our regexp matches tokens, use re.findall:\u001b[0m\u001b[0;34m\u001b[0m\u001b[0;34m\u001b[0m\u001b[0m\n\u001b[1;32m    132\u001b[0m         \u001b[0;32melse\u001b[0m\u001b[0;34m:\u001b[0m\u001b[0;34m\u001b[0m\u001b[0;34m\u001b[0m\u001b[0m\n\u001b[0;32m--> 133\u001b[0;31m             \u001b[0;32mreturn\u001b[0m \u001b[0mself\u001b[0m\u001b[0;34m.\u001b[0m\u001b[0m_regexp\u001b[0m\u001b[0;34m.\u001b[0m\u001b[0mfindall\u001b[0m\u001b[0;34m(\u001b[0m\u001b[0mtext\u001b[0m\u001b[0;34m)\u001b[0m\u001b[0;34m\u001b[0m\u001b[0;34m\u001b[0m\u001b[0m\n\u001b[0m\u001b[1;32m    134\u001b[0m \u001b[0;34m\u001b[0m\u001b[0m\n\u001b[1;32m    135\u001b[0m     \u001b[0;32mdef\u001b[0m \u001b[0mspan_tokenize\u001b[0m\u001b[0;34m(\u001b[0m\u001b[0mself\u001b[0m\u001b[0;34m,\u001b[0m \u001b[0mtext\u001b[0m\u001b[0;34m)\u001b[0m\u001b[0;34m:\u001b[0m\u001b[0;34m\u001b[0m\u001b[0;34m\u001b[0m\u001b[0m\n",
      "\u001b[0;31mKeyboardInterrupt\u001b[0m: "
     ]
    }
   ],
   "source": [
    "# Lemmatize article text\n",
    "lem = WordNetLemmatizer()\n",
    "def lemmatize_text(text):\n",
    "    return [lem.lemmatize(w) for w in tokenizer.tokenize(text)]\n",
    "\n",
    "df_articles['article_lemmatized'] = df_articles[\"article\"].apply(lambda x: lemmatize_text(x))\n",
    "df_articles[\"article_lemmatized\"] = df_articles[\"article_lemmatized\"].apply(lambda x: \" \".join(x))\n",
    "\n",
    "# Initialize regex tokenizer\n",
    "tokenizer = RegexpTokenizer(\n",
    "    \"(?:(?<=\\s)|(?<=^)|(?<=[>\\\"]))[a-z-']+(?:(?=\\s)|(?=\\:\\s)|(?=$)|(?=[.!,;\\\"]))\"\n",
    ")\n",
    "\n",
    "# Create custom stop words set\n",
    "custom_stop_words = text.ENGLISH_STOP_WORDS.union([\"et\",\"al\",\"mg\",\"l\",\"kg\",\"g\",\"mm\",\"nm\",\"cm\",\"dl\",\"oz\",\"ft\",\"lb\",\"ml\"])\n",
    "\n",
    "# Encode data with TF-IDF\n",
    "tfidf = TfidfVectorizer(lowercase=True,\n",
    "                        stop_words=custom_stop_words,\n",
    "                        max_df=0.95,\n",
    "                        min_df=2,\n",
    "                        max_features=1000,\n",
    "                        tokenizer=tokenizer.tokenize)\n",
    "vectorized_articles = tfidf.fit_transform(df_articles[\"article_lemmatized\"])\n",
    "\n",
    "# Save vocab\n",
    "vocab = tfidf.get_feature_names_out()"
   ]
  },
  {
   "attachments": {},
   "cell_type": "markdown",
   "metadata": {},
   "source": [
    "#### Step 2: Run LDA"
   ]
  },
  {
   "cell_type": "code",
   "execution_count": 93,
   "metadata": {},
   "outputs": [],
   "source": [
    "# Instantiate LDA\n",
    "lda = LDA(n_components=20)\n",
    "\n",
    "# Run on vectorized_articles\n",
    "X_topics = lda.fit_transform(vectorized_articles)"
   ]
  },
  {
   "cell_type": "code",
   "execution_count": 94,
   "metadata": {},
   "outputs": [
    {
     "name": "stdout",
     "output_type": "stream",
     "text": [
      "Topic 1: ['cognitive', 'brain', 'patients', 'ad', 'ms', 'et', 'al', 'memory', 'study', 'subjects']\n",
      "Topic 2: ['rats', 'mice', 'animals', 'group', 'kg', 'mg', 'p', 'control', 'animal', 'groups']\n",
      "Topic 3: ['diabetes', 'insulin', 'glucose', 'dm', 'diabetic', 'weight', 'bmi', 'women', 'obesity', 'study']\n",
      "Topic 4: ['patients', 'study', 'mortality', 'risk', 'hiv', 'age', 'hospital', 'group', 'years', 'data']\n",
      "Topic 5: ['tumor', 'lesion', 'lesions', 'mass', 'cells', 'tumors', 'diagnosis', 'ct', 'patient', 'case']\n",
      "Topic 6: ['patient', 'mg', 'patients', 'dl', 'case', 'syndrome', 'renal', 'normal', 'disease', 'day']\n",
      "Topic 7: ['gene', 'genes', 'genome', 'dna', 'sequence', 'sequences', 'protein', 'mutations', 'proteins', 'mutation']\n",
      "Topic 8: ['eye', 'eyes', 'visual', 'images', 'patients', 'anterior', 'nerve', 'thickness', 'surgery', 'mm']\n",
      "Topic 9: ['isolates', 'infection', 'pcr', 'virus', 'strains', 'samples', 'species', 'positive', 'infected', 'dna']\n",
      "Topic 10: ['exercise', 'muscle', 'subjects', 'study', 'group', 'training', 'patients', 'pain', 'test', 'joint']\n",
      "Topic 11: ['patients', 'surgery', 'patient', 'surgical', 'pain', 'fracture', 'postoperative', 'bone', 'cases', 'procedure']\n",
      "Topic 12: ['m', 'c', 'figure', 'h', 'water', 'nm', 'solution', 'using', 'energy', 'temperature']\n",
      "Topic 13: ['teeth', 'tooth', 'dental', 'root', 'bone', 'mm', 'surface', 'group', 'material', 'study']\n",
      "Topic 14: ['cells', 'cell', 'expression', 'ml', 'protein', 'figure', 'anti', 'l', 'using', 'g']\n",
      "Topic 15: ['patients', 'study', 'levels', 'serum', 'p', 'risk', 'subjects', 'group', 'age', 'vitamin']\n",
      "Topic 16: ['health', 'care', 'study', 'students', 'children', 'patients', 'research', 'participants', 'social', 'medical']\n",
      "Topic 17: ['cancer', 'patients', 'tumor', 'breast', 'survival', 'chemotherapy', 'treatment', 'tumors', 'study', 'grade']\n",
      "Topic 18: ['cells', 'cell', 'expression', 'et', 'al', 'mice', 'activation', 'protein', 'signaling', 'receptor']\n",
      "Topic 19: ['patients', 'treatment', 'study', 'group', 'mg', 'dose', 'pain', 'placebo', 'drug', 'therapy']\n",
      "Topic 20: ['artery', 'left', 'cardiac', 'pulmonary', 'right', 'coronary', 'patient', 'patients', 'heart', 'pressure']\n"
     ]
    }
   ],
   "source": [
    "# Get topic distribution\n",
    "topic_words = lda.components_\n",
    "\n",
    "# Retrieve topics\n",
    "for i, topic_dist in enumerate(topic_words):\n",
    "    \n",
    "    # Zip vocab and topic distribution\n",
    "    zipped = zip(vocab, topic_dist)\n",
    "\n",
    "    # Sort and get out top 10\n",
    "    top_terms_key = sorted(zipped, key=lambda t: t[1], reverse=True)[0:10]\n",
    "    top_terms_list = list(dict(top_terms_key).keys())\n",
    "\n",
    "    # Print\n",
    "    print(f\"Topic {i + 1}: {top_terms_list}\")\n",
    "    "
   ]
  },
  {
   "cell_type": "code",
   "execution_count": 95,
   "metadata": {},
   "outputs": [],
   "source": [
    "# Assign topics to articles\n",
    "article_topic = lda.transform(vectorized_articles)\n",
    "\n",
    "topics = []\n",
    "for i in range(article_topic.shape[0]):\n",
    "\n",
    "    # Get most likely topic for each article\n",
    "    topic = article_topic[i].argmax() + 1\n",
    "    topics.append(topic)\n",
    "\n",
    "# Add column to df_articles\n",
    "df_articles[\"topic\"] = topics"
   ]
  },
  {
   "cell_type": "code",
   "execution_count": 96,
   "metadata": {},
   "outputs": [
    {
     "data": {
      "text/html": [
       "<div>\n",
       "<style scoped>\n",
       "    .dataframe tbody tr th:only-of-type {\n",
       "        vertical-align: middle;\n",
       "    }\n",
       "\n",
       "    .dataframe tbody tr th {\n",
       "        vertical-align: top;\n",
       "    }\n",
       "\n",
       "    .dataframe thead th {\n",
       "        text-align: right;\n",
       "    }\n",
       "</style>\n",
       "<table border=\"1\" class=\"dataframe\">\n",
       "  <thead>\n",
       "    <tr style=\"text-align: right;\">\n",
       "      <th></th>\n",
       "      <th>article</th>\n",
       "      <th>abstract</th>\n",
       "      <th>section_names</th>\n",
       "      <th>topic</th>\n",
       "    </tr>\n",
       "  </thead>\n",
       "  <tbody>\n",
       "    <tr>\n",
       "      <th>0</th>\n",
       "      <td>a recent systematic analysis showed that in 20...</td>\n",
       "      <td>background : the present study was carried ou...</td>\n",
       "      <td>INTRODUCTION\\nMATERIALS AND METHODS\\nParticipa...</td>\n",
       "      <td>16</td>\n",
       "    </tr>\n",
       "    <tr>\n",
       "      <th>1</th>\n",
       "      <td>it occurs in more than 50% of patients and may...</td>\n",
       "      <td>backgroundanemia in patients with cancer who ...</td>\n",
       "      <td>Introduction\\nPatients and methods\\nStudy desi...</td>\n",
       "      <td>19</td>\n",
       "    </tr>\n",
       "    <tr>\n",
       "      <th>2</th>\n",
       "      <td>tardive dystonia ( td ) , a rarer side effect ...</td>\n",
       "      <td>tardive dystonia ( td ) is a serious side eff...</td>\n",
       "      <td>INTRODUCTION\\nCASE REPORT\\nDISCUSSION\\nDeclara...</td>\n",
       "      <td>6</td>\n",
       "    </tr>\n",
       "    <tr>\n",
       "      <th>3</th>\n",
       "      <td>lepidoptera include agricultural pests that , ...</td>\n",
       "      <td>many lepidopteran insects are agricultural pe...</td>\n",
       "      <td>1. Introduction\\n2. Insect Immunity\\n3. Signal...</td>\n",
       "      <td>18</td>\n",
       "    </tr>\n",
       "    <tr>\n",
       "      <th>4</th>\n",
       "      <td>syncope is caused by transient diffuse cerebra...</td>\n",
       "      <td>we present an unusual case of recurrent cough...</td>\n",
       "      <td>Introduction\\nCase report\\nDiscussion\\nConflic...</td>\n",
       "      <td>20</td>\n",
       "    </tr>\n",
       "  </tbody>\n",
       "</table>\n",
       "</div>"
      ],
      "text/plain": [
       "                                             article  \\\n",
       "0  a recent systematic analysis showed that in 20...   \n",
       "1  it occurs in more than 50% of patients and may...   \n",
       "2  tardive dystonia ( td ) , a rarer side effect ...   \n",
       "3  lepidoptera include agricultural pests that , ...   \n",
       "4  syncope is caused by transient diffuse cerebra...   \n",
       "\n",
       "                                            abstract  \\\n",
       "0   background : the present study was carried ou...   \n",
       "1   backgroundanemia in patients with cancer who ...   \n",
       "2   tardive dystonia ( td ) is a serious side eff...   \n",
       "3   many lepidopteran insects are agricultural pe...   \n",
       "4   we present an unusual case of recurrent cough...   \n",
       "\n",
       "                                       section_names  topic  \n",
       "0  INTRODUCTION\\nMATERIALS AND METHODS\\nParticipa...     16  \n",
       "1  Introduction\\nPatients and methods\\nStudy desi...     19  \n",
       "2  INTRODUCTION\\nCASE REPORT\\nDISCUSSION\\nDeclara...      6  \n",
       "3  1. Introduction\\n2. Insect Immunity\\n3. Signal...     18  \n",
       "4  Introduction\\nCase report\\nDiscussion\\nConflic...     20  "
      ]
     },
     "execution_count": 96,
     "metadata": {},
     "output_type": "execute_result"
    }
   ],
   "source": [
    "# Inspect df_articles with topic\n",
    "df_articles.head()"
   ]
  },
  {
   "attachments": {},
   "cell_type": "markdown",
   "metadata": {},
   "source": [
    "#### Step 3: Latent Topic Analysis"
   ]
  },
  {
   "cell_type": "code",
   "execution_count": 97,
   "metadata": {},
   "outputs": [
    {
     "data": {
      "image/png": "[encoded data removed]",
      "text/plain": [
       "<Figure size 432x288 with 1 Axes>"
      ]
     },
     "metadata": {
      "needs_background": "light"
     },
     "output_type": "display_data"
    }
   ],
   "source": [
    "# View distribution of articles over topics\n",
    "plt.hist(df_articles[\"topic\"])\n",
    "plt.show()"
   ]
  }
 ],
 "metadata": {
  "kernelspec": {
   "display_name": "base",
   "language": "python",
   "name": "python3"
  },
  "language_info": {
   "codemirror_mode": {
    "name": "ipython",
    "version": 3
   },
   "file_extension": ".py",
   "mimetype": "text/x-python",
   "name": "python",
   "nbconvert_exporter": "python",
   "pygments_lexer": "ipython3",
   "version": "3.9.7"
  },
  "orig_nbformat": 4
 },
 "nbformat": 4,
 "nbformat_minor": 2
}
