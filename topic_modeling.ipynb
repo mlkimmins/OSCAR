{
 "cells": [
  {
   "attachments": {},
   "cell_type": "markdown",
   "metadata": {},
   "source": [
    "## Topic Modeling with LDA\n",
    "\n",
    "In this section we develop a topic model using Latent Dirichlet Allocation (LDA) to discover unobserved themes across papers. This may have practical value in the following ways: \n",
    "\n",
    "1. Uncovering nontrivial relationships between disparate fields of research \n",
    "2. Organizing papers into useful categories\n",
    "3. Navigating citations based on their usage in papers within & across categories"
   ]
  },
  {
   "attachments": {},
   "cell_type": "markdown",
   "metadata": {},
   "source": [
    "#### Step 1: Import & Preprocess Data"
   ]
  },
  {
   "cell_type": "code",
   "execution_count": 76,
   "metadata": {},
   "outputs": [],
   "source": [
    "import pandas as pd\n",
    "import numpy as np\n",
    "import matplotlib.pyplot as plt \n",
    "import seaborn as sns\n",
    "from sklearn.feature_extraction.text import TfidfVectorizer\n",
    "from nltk.tokenize import RegexpTokenizer\n",
    "from sklearn.decomposition import LatentDirichletAllocation as LDA\n",
    "from datasets import load_dataset"
   ]
  },
  {
   "cell_type": "code",
   "execution_count": 77,
   "metadata": {},
   "outputs": [
    {
     "name": "stderr",
     "output_type": "stream",
     "text": [
      "Found cached dataset scientific_papers (/Users/mattroth/.cache/huggingface/datasets/scientific_papers/pubmed/1.1.1/306757013fb6f37089b6a75469e6638a553bd9f009484938d8f75a4c5e84206f)\n"
     ]
    }
   ],
   "source": [
    "# Load pubmed dataset from huggingface\n",
    "articles = load_dataset(\"scientific_papers\", \"pubmed\", split=\"train\")\n",
    "df_articles = pd.DataFrame(articles)"
   ]
  },
  {
   "cell_type": "code",
   "execution_count": 78,
   "metadata": {},
   "outputs": [
    {
     "data": {
      "text/html": [
       "<div>\n",
       "<style scoped>\n",
       "    .dataframe tbody tr th:only-of-type {\n",
       "        vertical-align: middle;\n",
       "    }\n",
       "\n",
       "    .dataframe tbody tr th {\n",
       "        vertical-align: top;\n",
       "    }\n",
       "\n",
       "    .dataframe thead th {\n",
       "        text-align: right;\n",
       "    }\n",
       "</style>\n",
       "<table border=\"1\" class=\"dataframe\">\n",
       "  <thead>\n",
       "    <tr style=\"text-align: right;\">\n",
       "      <th></th>\n",
       "      <th>article</th>\n",
       "      <th>abstract</th>\n",
       "      <th>section_names</th>\n",
       "    </tr>\n",
       "  </thead>\n",
       "  <tbody>\n",
       "    <tr>\n",
       "      <th>0</th>\n",
       "      <td>a recent systematic analysis showed that in 20...</td>\n",
       "      <td>background : the present study was carried ou...</td>\n",
       "      <td>INTRODUCTION\\nMATERIALS AND METHODS\\nParticipa...</td>\n",
       "    </tr>\n",
       "    <tr>\n",
       "      <th>1</th>\n",
       "      <td>it occurs in more than 50% of patients and may...</td>\n",
       "      <td>backgroundanemia in patients with cancer who ...</td>\n",
       "      <td>Introduction\\nPatients and methods\\nStudy desi...</td>\n",
       "    </tr>\n",
       "    <tr>\n",
       "      <th>2</th>\n",
       "      <td>tardive dystonia ( td ) , a rarer side effect ...</td>\n",
       "      <td>tardive dystonia ( td ) is a serious side eff...</td>\n",
       "      <td>INTRODUCTION\\nCASE REPORT\\nDISCUSSION\\nDeclara...</td>\n",
       "    </tr>\n",
       "    <tr>\n",
       "      <th>3</th>\n",
       "      <td>lepidoptera include agricultural pests that , ...</td>\n",
       "      <td>many lepidopteran insects are agricultural pe...</td>\n",
       "      <td>1. Introduction\\n2. Insect Immunity\\n3. Signal...</td>\n",
       "    </tr>\n",
       "    <tr>\n",
       "      <th>4</th>\n",
       "      <td>syncope is caused by transient diffuse cerebra...</td>\n",
       "      <td>we present an unusual case of recurrent cough...</td>\n",
       "      <td>Introduction\\nCase report\\nDiscussion\\nConflic...</td>\n",
       "    </tr>\n",
       "  </tbody>\n",
       "</table>\n",
       "</div>"
      ],
      "text/plain": [
       "                                             article  \\\n",
       "0  a recent systematic analysis showed that in 20...   \n",
       "1  it occurs in more than 50% of patients and may...   \n",
       "2  tardive dystonia ( td ) , a rarer side effect ...   \n",
       "3  lepidoptera include agricultural pests that , ...   \n",
       "4  syncope is caused by transient diffuse cerebra...   \n",
       "\n",
       "                                            abstract  \\\n",
       "0   background : the present study was carried ou...   \n",
       "1   backgroundanemia in patients with cancer who ...   \n",
       "2   tardive dystonia ( td ) is a serious side eff...   \n",
       "3   many lepidopteran insects are agricultural pe...   \n",
       "4   we present an unusual case of recurrent cough...   \n",
       "\n",
       "                                       section_names  \n",
       "0  INTRODUCTION\\nMATERIALS AND METHODS\\nParticipa...  \n",
       "1  Introduction\\nPatients and methods\\nStudy desi...  \n",
       "2  INTRODUCTION\\nCASE REPORT\\nDISCUSSION\\nDeclara...  \n",
       "3  1. Introduction\\n2. Insect Immunity\\n3. Signal...  \n",
       "4  Introduction\\nCase report\\nDiscussion\\nConflic...  "
      ]
     },
     "execution_count": 78,
     "metadata": {},
     "output_type": "execute_result"
    }
   ],
   "source": [
    "# Inspect df_articles\n",
    "df_articles.head()"
   ]
  },
  {
   "cell_type": "code",
   "execution_count": 80,
   "metadata": {},
   "outputs": [],
   "source": [
    "# Initialize regex tokenizer\n",
    "tokenizer = RegexpTokenizer(\n",
    "    \"(?:(?<=\\s)|(?<=^)|(?<=[>\\\"]))[a-z-']+(?:(?=\\s)|(?=\\:\\s)|(?=$)|(?=[.!,;\\\"]))\"\n",
    ")\n",
    "\n",
    "# Encode data with TF-IDF\n",
    "tfidf = TfidfVectorizer(lowercase=True,\n",
    "                        stop_words=\"english\",\n",
    "                        max_df=0.95,\n",
    "                        min_df=2,\n",
    "                        max_features=1000,\n",
    "                        tokenizer=tokenizer.tokenize)\n",
    "vectorized_articles = tfidf.fit_transform(df_articles[\"article\"])\n",
    "\n",
    "# Save vocab\n",
    "vocab = tfidf.get_feature_names_out()"
   ]
  },
  {
   "attachments": {},
   "cell_type": "markdown",
   "metadata": {},
   "source": [
    "#### Step 2: Run LDA"
   ]
  },
  {
   "cell_type": "code",
   "execution_count": 81,
   "metadata": {},
   "outputs": [],
   "source": [
    "# Instantiate LDA\n",
    "lda = LDA(n_components=10)\n",
    "\n",
    "# Run on vectorized_articles\n",
    "X_topics = lda.fit_transform(vectorized_articles)"
   ]
  },
  {
   "cell_type": "code",
   "execution_count": 82,
   "metadata": {},
   "outputs": [
    {
     "name": "stdout",
     "output_type": "stream",
     "text": [
      "Topic 1: ['artery', 'patient', 'left', 'patients', 'right', 'cardiac', 'pulmonary', 'coronary', 'pressure', 'abdominal']\n",
      "Topic 2: ['patient', 'patients', 'mg', 'infection', 'case', 'disease', 'treatment', 'dl', 'day', 'cases']\n",
      "Topic 3: ['tumor', 'lesion', 'tumors', 'lesions', 'ct', 'patient', 'mass', 'diagnosis', 'cases', 'case']\n",
      "Topic 4: ['health', 'study', 'patients', 'care', 'children', 'participants', 'students', 'data', 'age', 'women']\n",
      "Topic 5: ['surface', 'teeth', 'figure', 'using', 'mm', 'tooth', 'used', 'root', 'values', 'water']\n",
      "Topic 6: ['cells', 'cell', 'expression', 'mice', 'rats', 'inflammatory', 'induced', 't', 'anti', 'levels']\n",
      "Topic 7: ['gene', 'genes', 'al', 'et', 'protein', 'proteins', 'expression', 'cells', 'cell', 'dna']\n",
      "Topic 8: ['samples', 'm', 'ml', 'pcr', 'c', 'l', 'isolates', 'h', 'dna', 'g']\n",
      "Topic 9: ['patients', 'study', 'diabetes', 'p', 'group', 'risk', 'insulin', 'levels', 'subjects', 'age']\n",
      "Topic 10: ['patients', 'surgery', 'pain', 'group', 'study', 'patient', 'postoperative', 'treatment', 'surgical', 'fracture']\n"
     ]
    }
   ],
   "source": [
    "# Get topic distribution\n",
    "topic_words = lda.components_\n",
    "\n",
    "# Retrieve topics\n",
    "for i, topic_dist in enumerate(topic_words):\n",
    "    \n",
    "    zipped = zip(vocab, topic_dist)\n",
    "    top_terms_key = sorted(zipped, key=lambda t: t[1], reverse=True)[0:10]\n",
    "    top_terms_list = list(dict(top_terms_key).keys())\n",
    "    print(f\"Topic {i + 1}: {top_terms_list}\")\n",
    "    "
   ]
  },
  {
   "cell_type": "code",
   "execution_count": 84,
   "metadata": {},
   "outputs": [],
   "source": [
    "# Assign topics to articles\n",
    "article_topic = lda.transform(vectorized_articles)\n",
    "\n",
    "topics = []\n",
    "for i in range(article_topic.shape[0]):\n",
    "\n",
    "    topic = article_topic[i].argmax() + 1\n",
    "\n",
    "    topics.append(topic)\n",
    "\n",
    "df_articles[\"topic\"] = topics"
   ]
  },
  {
   "cell_type": "code",
   "execution_count": 85,
   "metadata": {},
   "outputs": [
    {
     "data": {
      "text/html": [
       "<div>\n",
       "<style scoped>\n",
       "    .dataframe tbody tr th:only-of-type {\n",
       "        vertical-align: middle;\n",
       "    }\n",
       "\n",
       "    .dataframe tbody tr th {\n",
       "        vertical-align: top;\n",
       "    }\n",
       "\n",
       "    .dataframe thead th {\n",
       "        text-align: right;\n",
       "    }\n",
       "</style>\n",
       "<table border=\"1\" class=\"dataframe\">\n",
       "  <thead>\n",
       "    <tr style=\"text-align: right;\">\n",
       "      <th></th>\n",
       "      <th>article</th>\n",
       "      <th>abstract</th>\n",
       "      <th>section_names</th>\n",
       "      <th>topic</th>\n",
       "    </tr>\n",
       "  </thead>\n",
       "  <tbody>\n",
       "    <tr>\n",
       "      <th>0</th>\n",
       "      <td>a recent systematic analysis showed that in 20...</td>\n",
       "      <td>background : the present study was carried ou...</td>\n",
       "      <td>INTRODUCTION\\nMATERIALS AND METHODS\\nParticipa...</td>\n",
       "      <td>4</td>\n",
       "    </tr>\n",
       "    <tr>\n",
       "      <th>1</th>\n",
       "      <td>it occurs in more than 50% of patients and may...</td>\n",
       "      <td>backgroundanemia in patients with cancer who ...</td>\n",
       "      <td>Introduction\\nPatients and methods\\nStudy desi...</td>\n",
       "      <td>9</td>\n",
       "    </tr>\n",
       "    <tr>\n",
       "      <th>2</th>\n",
       "      <td>tardive dystonia ( td ) , a rarer side effect ...</td>\n",
       "      <td>tardive dystonia ( td ) is a serious side eff...</td>\n",
       "      <td>INTRODUCTION\\nCASE REPORT\\nDISCUSSION\\nDeclara...</td>\n",
       "      <td>2</td>\n",
       "    </tr>\n",
       "    <tr>\n",
       "      <th>3</th>\n",
       "      <td>lepidoptera include agricultural pests that , ...</td>\n",
       "      <td>many lepidopteran insects are agricultural pe...</td>\n",
       "      <td>1. Introduction\\n2. Insect Immunity\\n3. Signal...</td>\n",
       "      <td>7</td>\n",
       "    </tr>\n",
       "    <tr>\n",
       "      <th>4</th>\n",
       "      <td>syncope is caused by transient diffuse cerebra...</td>\n",
       "      <td>we present an unusual case of recurrent cough...</td>\n",
       "      <td>Introduction\\nCase report\\nDiscussion\\nConflic...</td>\n",
       "      <td>1</td>\n",
       "    </tr>\n",
       "  </tbody>\n",
       "</table>\n",
       "</div>"
      ],
      "text/plain": [
       "                                             article  \\\n",
       "0  a recent systematic analysis showed that in 20...   \n",
       "1  it occurs in more than 50% of patients and may...   \n",
       "2  tardive dystonia ( td ) , a rarer side effect ...   \n",
       "3  lepidoptera include agricultural pests that , ...   \n",
       "4  syncope is caused by transient diffuse cerebra...   \n",
       "\n",
       "                                            abstract  \\\n",
       "0   background : the present study was carried ou...   \n",
       "1   backgroundanemia in patients with cancer who ...   \n",
       "2   tardive dystonia ( td ) is a serious side eff...   \n",
       "3   many lepidopteran insects are agricultural pe...   \n",
       "4   we present an unusual case of recurrent cough...   \n",
       "\n",
       "                                       section_names  topic  \n",
       "0  INTRODUCTION\\nMATERIALS AND METHODS\\nParticipa...      4  \n",
       "1  Introduction\\nPatients and methods\\nStudy desi...      9  \n",
       "2  INTRODUCTION\\nCASE REPORT\\nDISCUSSION\\nDeclara...      2  \n",
       "3  1. Introduction\\n2. Insect Immunity\\n3. Signal...      7  \n",
       "4  Introduction\\nCase report\\nDiscussion\\nConflic...      1  "
      ]
     },
     "execution_count": 85,
     "metadata": {},
     "output_type": "execute_result"
    }
   ],
   "source": [
    "df_articles.head()"
   ]
  }
 ],
 "metadata": {
  "kernelspec": {
   "display_name": "base",
   "language": "python",
   "name": "python3"
  },
  "language_info": {
   "codemirror_mode": {
    "name": "ipython",
    "version": 3
   },
   "file_extension": ".py",
   "mimetype": "text/x-python",
   "name": "python",
   "nbconvert_exporter": "python",
   "pygments_lexer": "ipython3",
   "version": "3.9.7"
  },
  "orig_nbformat": 4
 },
 "nbformat": 4,
 "nbformat_minor": 2
}
