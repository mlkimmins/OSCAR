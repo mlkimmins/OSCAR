{
 "cells": [
  {
   "cell_type": "markdown",
   "id": "8e9eb30c",
   "metadata": {},
   "source": [
    "# Import libraries"
   ]
  },
  {
   "cell_type": "code",
   "execution_count": 1,
   "id": "0c490daa",
   "metadata": {},
   "outputs": [
    {
     "name": "stderr",
     "output_type": "stream",
     "text": [
      "/opt/conda/envs/cs109b/lib/python3.11/site-packages/tqdm/auto.py:21: TqdmWarning: IProgress not found. Please update jupyter and ipywidgets. See https://ipywidgets.readthedocs.io/en/stable/user_install.html\n",
      "  from .autonotebook import tqdm as notebook_tqdm\n",
      "2023-05-08 18:12:41.050455: I tensorflow/core/util/port.cc:110] oneDNN custom operations are on. You may see slightly different numerical results due to floating-point round-off errors from different computation orders. To turn them off, set the environment variable `TF_ENABLE_ONEDNN_OPTS=0`.\n",
      "2023-05-08 18:12:41.103605: I tensorflow/core/platform/cpu_feature_guard.cc:182] This TensorFlow binary is optimized to use available CPU instructions in performance-critical operations.\n",
      "To enable the following instructions: AVX2 AVX512F AVX512_VNNI FMA, in other operations, rebuild TensorFlow with the appropriate compiler flags.\n",
      "2023-05-08 18:12:42.027573: W tensorflow/compiler/tf2tensorrt/utils/py_utils.cc:38] TF-TRT Warning: Could not find TensorRT\n"
     ]
    }
   ],
   "source": [
    "from datasets import load_dataset\n",
    "from transformers import (AutoModelForSeq2SeqLM, AutoTokenizer, \n",
    "                          Seq2SeqTrainingArguments, Seq2SeqTrainer)\n",
    "import random\n",
    "import torch"
   ]
  },
  {
   "cell_type": "markdown",
   "id": "2f837c4f",
   "metadata": {},
   "source": [
    "# Load Data"
   ]
  },
  {
   "cell_type": "code",
   "execution_count": 2,
   "id": "97087531",
   "metadata": {
    "scrolled": true
   },
   "outputs": [
    {
     "name": "stderr",
     "output_type": "stream",
     "text": [
      "Found cached dataset scientific_papers (/home/u_51520750/.cache/huggingface/datasets/scientific_papers/pubmed/1.1.1/306757013fb6f37089b6a75469e6638a553bd9f009484938d8f75a4c5e84206f)\n"
     ]
    }
   ],
   "source": [
    "train_dataset = load_dataset(\"scientific_papers\", \"pubmed\", split=\"train\")"
   ]
  },
  {
   "cell_type": "code",
   "execution_count": 3,
   "id": "33318445",
   "metadata": {},
   "outputs": [
    {
     "name": "stderr",
     "output_type": "stream",
     "text": [
      "Found cached dataset scientific_papers (/home/u_51520750/.cache/huggingface/datasets/scientific_papers/pubmed/1.1.1/306757013fb6f37089b6a75469e6638a553bd9f009484938d8f75a4c5e84206f)\n"
     ]
    }
   ],
   "source": [
    "val_dataset = load_dataset(\"scientific_papers\", \"pubmed\", split=\"validation\")"
   ]
  },
  {
   "cell_type": "code",
   "execution_count": 4,
   "id": "b10845ce",
   "metadata": {},
   "outputs": [
    {
     "name": "stderr",
     "output_type": "stream",
     "text": [
      "Found cached dataset scientific_papers (/home/u_51520750/.cache/huggingface/datasets/scientific_papers/pubmed/1.1.1/306757013fb6f37089b6a75469e6638a553bd9f009484938d8f75a4c5e84206f)\n"
     ]
    }
   ],
   "source": [
    "test_dataset = load_dataset(\"scientific_papers\", \"pubmed\", split=\"test\")"
   ]
  },
  {
   "cell_type": "markdown",
   "id": "6ce7221d",
   "metadata": {},
   "source": [
    "# Rationale for Including Second Model"
   ]
  },
  {
   "cell_type": "markdown",
   "id": "1b484b1f",
   "metadata": {},
   "source": [
    "Alongside the OSCAR model, we developed a new model that employs a GPT-2 encoder and huggingface's seq2seq architecture. This model was constructed as a comparison point and an alternative method to OSCAR."
   ]
  },
  {
   "cell_type": "markdown",
   "id": "06e68beb",
   "metadata": {},
   "source": [
    "# Preprocess Data"
   ]
  },
  {
   "cell_type": "markdown",
   "id": "20ebf4b1",
   "metadata": {},
   "source": [
    "## Load GPT-2 Tokenizer from Hugging Face"
   ]
  },
  {
   "cell_type": "code",
   "execution_count": 5,
   "id": "6a831eb8",
   "metadata": {},
   "outputs": [],
   "source": [
    "tokenizer = AutoTokenizer.from_pretrained(\"gpt2\")"
   ]
  },
  {
   "cell_type": "code",
   "execution_count": 6,
   "id": "ddacbfde",
   "metadata": {},
   "outputs": [
    {
     "data": {
      "text/plain": [
       "1"
      ]
     },
     "execution_count": 6,
     "metadata": {},
     "output_type": "execute_result"
    }
   ],
   "source": [
    "tokenizer.add_special_tokens({'pad_token': '[PAD]'})"
   ]
  },
  {
   "cell_type": "markdown",
   "id": "d01fe8b3",
   "metadata": {},
   "source": [
    "## Set Parameters"
   ]
  },
  {
   "cell_type": "code",
   "execution_count": 7,
   "id": "5fc2ce85",
   "metadata": {},
   "outputs": [],
   "source": [
    "max_input_length = 8192\n",
    "max_output_length = 512\n",
    "batch_size = 2"
   ]
  },
  {
   "cell_type": "markdown",
   "id": "3b5ebf29",
   "metadata": {},
   "source": [
    "## Pre-processing Function"
   ]
  },
  {
   "cell_type": "markdown",
   "id": "6eee7468",
   "metadata": {},
   "source": [
    "The function below (\"process_data_to_model_inputs\") takes a batch of data as its inpus and tokenizes the \"article\" and \"abstract\" fields using the GPT-2 tokenizer."
   ]
  },
  {
   "cell_type": "code",
   "execution_count": 8,
   "id": "a19855f3",
   "metadata": {},
   "outputs": [],
   "source": [
    "def process_data_to_model_inputs(batch):\n",
    "    inputs = tokenizer(batch[\"article\"], padding=\"max_length\", truncation=True, max_length=max_input_length)\n",
    "    outputs = tokenizer(batch[\"abstract\"], padding=\"max_length\", truncation=True, max_length=max_output_length)\n",
    "\n",
    "    batch[\"input_ids\"] = inputs.input_ids\n",
    "    batch[\"attention_mask\"] = inputs.attention_mask\n",
    "    batch[\"global_attention_mask\"] = len(batch[\"input_ids\"]) * [[0 for _ in range(len(batch[\"input_ids\"][0]))]]\n",
    "    batch[\"global_attention_mask\"][0][0] = 1\n",
    "    batch[\"labels\"] = outputs.input_ids\n",
    "    batch[\"labels\"] = [[-100 if token == tokenizer.pad_token_id else token for token in labels] for labels in batch[\"labels\"]]\n",
    "\n",
    "    return batch"
   ]
  },
  {
   "cell_type": "markdown",
   "id": "b26e3bd3",
   "metadata": {},
   "source": [
    "## Downsample"
   ]
  },
  {
   "cell_type": "markdown",
   "id": "3e67a903",
   "metadata": {},
   "source": [
    " We downsample our data to make model training much quicker due to CPU limitations."
   ]
  },
  {
   "cell_type": "code",
   "execution_count": 9,
   "id": "fbf10a89",
   "metadata": {},
   "outputs": [],
   "source": [
    "num_shards = 1000\n",
    "raw_sub_train_dataset = train_dataset.shard(num_shards=num_shards, index=random.randint(0, num_shards - 1))\n",
    "raw_sub_val_dataset = val_dataset.shard(num_shards=num_shards, index=random.randint(0, num_shards - 1))"
   ]
  },
  {
   "cell_type": "markdown",
   "id": "e2c8b01d",
   "metadata": {},
   "source": [
    "## Tokenize and Convert to Torch"
   ]
  },
  {
   "cell_type": "code",
   "execution_count": 10,
   "id": "e015e67a",
   "metadata": {},
   "outputs": [
    {
     "name": "stderr",
     "output_type": "stream",
     "text": [
      "                                                             \r"
     ]
    }
   ],
   "source": [
    "sub_train_dataset = raw_sub_train_dataset.map(process_data_to_model_inputs, batched=True, batch_size=batch_size, remove_columns=[\"article\", \"abstract\", \"section_names\"])\n",
    "sub_val_dataset = raw_sub_val_dataset.map(process_data_to_model_inputs, batched=True, batch_size=batch_size, remove_columns=[\"article\", \"abstract\", \"section_names\"])"
   ]
  },
  {
   "cell_type": "code",
   "execution_count": 11,
   "id": "8755bce3",
   "metadata": {},
   "outputs": [],
   "source": [
    "sub_train_dataset.set_format(type=\"torch\", columns=[\"input_ids\", \"attention_mask\", \"global_attention_mask\", \"labels\"])\n",
    "sub_val_dataset.set_format(type=\"torch\", columns=[\"input_ids\", \"attention_mask\", \"global_attention_mask\", \"labels\"])"
   ]
  },
  {
   "cell_type": "markdown",
   "id": "808341a0",
   "metadata": {},
   "source": [
    "# Model 1"
   ]
  },
  {
   "cell_type": "markdown",
   "id": "442eb988",
   "metadata": {},
   "source": [
    "Below, we load a pre-trained version of the LED (Linformer-based Encoder-Decoder) model for seq-to-seq language modeling using the AutoModelForSeq2SeqLM class from huggingface."
   ]
  },
  {
   "cell_type": "code",
   "execution_count": 12,
   "id": "694a612a",
   "metadata": {},
   "outputs": [],
   "source": [
    "led = AutoModelForSeq2SeqLM.from_pretrained(\"allenai/led-base-16384\", gradient_checkpointing=True, use_cache=False)"
   ]
  },
  {
   "cell_type": "markdown",
   "id": "f4569af7",
   "metadata": {},
   "source": [
    "## Train / Fine Tune Model"
   ]
  },
  {
   "cell_type": "code",
   "execution_count": 51,
   "id": "78aae6ad",
   "metadata": {},
   "outputs": [
    {
     "name": "stderr",
     "output_type": "stream",
     "text": [
      "You're using a GPT2TokenizerFast tokenizer. Please note that with a fast tokenizer, using the `__call__` method is faster than using a method to encode the text followed by a call to the `pad` method to get a padded encoding.\n"
     ]
    },
    {
     "data": {
      "text/html": [
       "\n",
       "    <div>\n",
       "      \n",
       "      <progress value='180' max='180' style='width:300px; height:20px; vertical-align: middle;'></progress>\n",
       "      [180/180 11:22:19, Epoch 3/3]\n",
       "    </div>\n",
       "    <table border=\"1\" class=\"dataframe\">\n",
       "  <thead>\n",
       " <tr style=\"text-align: left;\">\n",
       "      <th>Epoch</th>\n",
       "      <th>Training Loss</th>\n",
       "      <th>Validation Loss</th>\n",
       "    </tr>\n",
       "  </thead>\n",
       "  <tbody>\n",
       "    <tr>\n",
       "      <td>1</td>\n",
       "      <td>5.870500</td>\n",
       "      <td>5.495304</td>\n",
       "    </tr>\n",
       "    <tr>\n",
       "      <td>2</td>\n",
       "      <td>4.777000</td>\n",
       "      <td>5.290465</td>\n",
       "    </tr>\n",
       "    <tr>\n",
       "      <td>3</td>\n",
       "      <td>4.363900</td>\n",
       "      <td>5.199156</td>\n",
       "    </tr>\n",
       "  </tbody>\n",
       "</table><p>"
      ],
      "text/plain": [
       "<IPython.core.display.HTML object>"
      ]
     },
     "metadata": {},
     "output_type": "display_data"
    },
    {
     "data": {
      "text/plain": [
       "TrainOutput(global_step=180, training_loss=5.003811815049914, metrics={'train_runtime': 41165.0255, 'train_samples_per_second': 0.009, 'train_steps_per_second': 0.004, 'total_flos': 1944147481067520.0, 'train_loss': 5.003811815049914, 'epoch': 3.0})"
      ]
     },
     "execution_count": 51,
     "metadata": {},
     "output_type": "execute_result"
    }
   ],
   "source": [
    "training_args = Seq2SeqTrainingArguments(\n",
    "    output_dir=\"allenai/led-base-16384_finetuned\",\n",
    "    overwrite_output_dir=True,\n",
    "    per_device_train_batch_size=batch_size,\n",
    "    per_device_eval_batch_size=batch_size,\n",
    "    evaluation_strategy=\"epoch\",\n",
    "    save_strategy=\"epoch\",\n",
    "    logging_strategy=\"epoch\",\n",
    "    logging_dir=\"allenai/led-base-16384_logs\",\n",
    "    num_train_epochs=3,\n",
    "    save_total_limit=1,\n",
    "    load_best_model_at_end=True,\n",
    "    report_to=\"none\",\n",
    ")\n",
    "\n",
    "trainer = Seq2SeqTrainer(\n",
    "    model=led,\n",
    "    args=training_args,\n",
    "    train_dataset=sub_train_dataset,\n",
    "    eval_dataset=sub_val_dataset,\n",
    "    tokenizer=tokenizer,\n",
    ")\n",
    "\n",
    "trainer.train()"
   ]
  },
  {
   "cell_type": "code",
   "execution_count": 109,
   "id": "2f6f744d",
   "metadata": {},
   "outputs": [
    {
     "data": {
      "image/png": "[encoded data removed]",
      "text/plain": [
       "<Figure size 640x480 with 1 Axes>"
      ]
     },
     "metadata": {},
     "output_type": "display_data"
    }
   ],
   "source": [
    "import matplotlib.pyplot as plt\n",
    "epochs = [1, 2, 3]\n",
    "training_loss = [5.870500, 4.777000, 4.363900]\n",
    "validation_loss = [5.495304, 5.290465, 5.199156]\n",
    "\n",
    "plt.plot(epochs, training_loss, label='Training Loss')\n",
    "plt.plot(epochs, validation_loss, label='Validation Loss')\n",
    "plt.xlabel('Epoch')\n",
    "plt.ylabel('Cross Entropy Loss')\n",
    "plt.title('Training and Validation Loss - GPT-2 Model')\n",
    "plt.legend()\n",
    "plt.show()"
   ]
  },
  {
   "cell_type": "markdown",
   "id": "eee11b9e",
   "metadata": {},
   "source": [
    "# Save Model"
   ]
  },
  {
   "cell_type": "code",
   "execution_count": 54,
   "id": "ab31b6ca",
   "metadata": {},
   "outputs": [],
   "source": [
    "#led.save_pretrained('model1_gpt2')\n"
   ]
  },
  {
   "cell_type": "code",
   "execution_count": 100,
   "id": "0434c722",
   "metadata": {},
   "outputs": [
    {
     "data": {
      "text/plain": [
       "('final_gpt2/tokenizer_config.json',\n",
       " 'final_gpt2/special_tokens_map.json',\n",
       " 'final_gpt2/vocab.json',\n",
       " 'final_gpt2/merges.txt',\n",
       " 'final_gpt2/added_tokens.json',\n",
       " 'final_gpt2/tokenizer.json')"
      ]
     },
     "execution_count": 100,
     "metadata": {},
     "output_type": "execute_result"
    }
   ],
   "source": [
    "led.save_pretrained('final_gpt2')\n",
    "tokenizer.save_pretrained('final_gpt2')"
   ]
  },
  {
   "cell_type": "markdown",
   "id": "896cfa72",
   "metadata": {},
   "source": [
    "# Load Model"
   ]
  },
  {
   "cell_type": "code",
   "execution_count": 14,
   "id": "599d5fd0",
   "metadata": {},
   "outputs": [],
   "source": [
    "from transformers import AutoTokenizer, AutoModelForSeq2SeqLM\n"
   ]
  },
  {
   "cell_type": "code",
   "execution_count": 105,
   "id": "4c2db970",
   "metadata": {},
   "outputs": [],
   "source": [
    "model_path = \"final_gpt2\"\n",
    "led = AutoModelForSeq2SeqLM.from_pretrained(model_path)"
   ]
  },
  {
   "cell_type": "code",
   "execution_count": 106,
   "id": "f8b6104b",
   "metadata": {},
   "outputs": [],
   "source": [
    "tokenizer = AutoTokenizer.from_pretrained(model_path)"
   ]
  },
  {
   "cell_type": "markdown",
   "id": "7574c258",
   "metadata": {},
   "source": [
    "## Test Model 1"
   ]
  },
  {
   "cell_type": "code",
   "execution_count": 20,
   "id": "a4dedef4",
   "metadata": {},
   "outputs": [],
   "source": [
    "led.config.num_beams = 1\n",
    "led.config.max_length = 512\n",
    "led.config.min_length = 100\n",
    "led.config.length_penalty = 2.0\n",
    "led.config.early_stopping = True\n",
    "led.config.no_repeat_ngram_size = 3"
   ]
  },
  {
   "cell_type": "code",
   "execution_count": 114,
   "id": "19bd4c7f",
   "metadata": {},
   "outputs": [],
   "source": [
    "# choose random article to test\n",
    "#random_index = random.randint(0, len(sub_val_dataset) - 1)\n",
    "# hard-code random index for practical purposes\n",
    "random_index = 2\n",
    "sample = sub_val_dataset[random_index]\n",
    "\n",
    "device = torch.device(\"cpu\")\n",
    "led.to(device)\n",
    "\n",
    "input_ids = sample[\"input_ids\"].unsqueeze(0).to(device)\n",
    "attention_mask = sample[\"attention_mask\"].unsqueeze(0).to(device)\n",
    "global_attention_mask = sample[\"global_attention_mask\"].unsqueeze(0).to(device)\n"
   ]
  },
  {
   "cell_type": "code",
   "execution_count": 115,
   "id": "039a04fe",
   "metadata": {},
   "outputs": [
    {
     "name": "stderr",
     "output_type": "stream",
     "text": [
      "/opt/conda/envs/cs109b/lib/python3.11/site-packages/transformers/generation/utils.py:1313: UserWarning: Using `max_length`'s default (512) to control the generation length. This behaviour is deprecated and will be removed from the config in v5 of Transformers -- we recommend using `max_new_tokens` to control the maximum length of the generation.\n",
      "  warnings.warn(\n"
     ]
    }
   ],
   "source": [
    "# generate summary\n",
    "with torch.no_grad():\n",
    "    summary_ids = led.generate(input_ids=input_ids, attention_mask=attention_mask, global_attention_mask=global_attention_mask)\n"
   ]
  },
  {
   "cell_type": "code",
   "execution_count": 116,
   "id": "b6b58510",
   "metadata": {},
   "outputs": [
    {
     "name": "stdout",
     "output_type": "stream",
     "text": [
      "Generated Summary:\n",
      "# background hiccup is an involuntary, paroxysmal, inspiratory movement of the chest wall, associated with contraction of the diaphragm and accessory respiratory muscles, with synchronous glottis closure the cause of such hiccups may not always be organic. \n",
      " we present a series of four cases in the pediatric age group, who presented with hiccression of psychogenic origin to our center and were treated accordingly.  \n",
      " the present cases of the four children and adolescents from india.  Arsenal the present a 0 of psych a hiccMy in children and decided from ind htt. � the present recognition of the cases and ranged from 74 to 84.  det the present in children the cases.  the present there of the there and ranged vent 74 to and were.  per the present fit of the fit and ranged with h promups in children to results. in - fact psychogenic hicc frequent are considered a subtype of intractable hicc30. m the developmental aspects and sympathetic understanding of the associated problems and stressors.  ( iq ) was done for three of the recognition and ranged26 74 to results \n",
      " and one was a female.  all of the patients belonged to a rural background and all of them were from hindu nuclear families.  does and cutting down the secondary gain.  use of thedrug had improved on the same day when detailed assessments were done, and all, andver of the Output had improved income the same lasts when detailed, and we present cases. in a series. 220 adult patients, about 22% of the size seemed to have a psychogenic cause for intract- hiccography are classified under somatic autonomic dysfunction ( f45.3 ) according to icd 10 and undifferentiated somatoform disorder according to the dsm iv tr. whether the symptoms were intentionally produced can not be commented with complete accuracy, as the boundaries between unconscious and conscious productions of symptoms blur. yet, on assessment of the patient by trained psychiatrists, a diagnosis of psych found hicc - are considered the most appropriate in the above - mentioned cases.\n",
      "in - religion psychogenic leading for int usedable h promression.  increased ( f hicc, aboutG% of and cases seemed to into a psych a psych eyes cause foribrractable results results results  per, and such patients can be effectively treated. own to treat the cases, \n",
      "the cases described herein suggest that psychological factors may cause and exacerbate\n"
     ]
    }
   ],
   "source": [
    "generated_summary = tokenizer.decode(summary_ids.squeeze(), skip_special_tokens=True)\n",
    "print(\"Generated Summary:\")\n",
    "print(generated_summary)"
   ]
  },
  {
   "cell_type": "code",
   "execution_count": 121,
   "id": "caa4d86b",
   "metadata": {},
   "outputs": [
    {
     "name": "stdout",
     "output_type": "stream",
     "text": [
      "Actual Summary:\n"
     ]
    }
   ],
   "source": [
    "actual_summary = raw_sub_val_dataset[random_index][\"abstract\"]\n",
    "print(\"Actual Summary:\")\n"
   ]
  },
  {
   "cell_type": "code",
   "execution_count": 122,
   "id": "438ab5cf",
   "metadata": {},
   "outputs": [
    {
     "name": "stdout",
     "output_type": "stream",
     "text": [
      " hiccups can be due to organic diseases or psychogenic causes . \n",
      " psychogenic hiccup in children is an understudied area . \n",
      " we report a series of four cases presenting with psychogenic hiccups to the psychiatry outpatient clinic of a tertiary care hospital in north india . \n",
      " the cases were aged 11 to 13 years ; three of them were males and one female . \n",
      " three of the patients belonged to a rural background and all of them were from hindu nuclear families . \n",
      " the duration of hiccups for which treatment was sought ranged from three to fourteen months . the most common gains seen in two of the patients were , lesser scolding from the parents and getting eatables of their choice . \n",
      " the patients were managed by counseling and psychoeducation about the problem and cutting down the secondary gain . \n",
      " techniques of suggestion and double bind were tried . \n",
      " two of the patients had improved on the day detailed assessments were done , and all of the patients had improved on follow up . \n",
      " psychogenic hiccups in children and in the adolescent age group can be effectively managed by using non - pharmacological methods and appropriate education of the parents . \n"
     ]
    }
   ],
   "source": [
    "print(actual_summary)"
   ]
  },
  {
   "cell_type": "markdown",
   "id": "14b58233",
   "metadata": {},
   "source": [
    "# Overall Assessment"
   ]
  },
  {
   "cell_type": "markdown",
   "id": "716d7be9",
   "metadata": {},
   "source": [
    "# Assesment of GPT-2 Model: Low-to-Medium Performance\n",
    "**Strengths of Generated Summary**: \n",
    "- Captures some of the key content of the actual abstract. \n",
    "- Clearly attempts to *summarize* information (e.g., starts with a \"background\" statement) \n",
    "\n",
    "**Weaknesses of Generated Summary**:\n",
    "- Does not read like an actual professional abstract\n",
    "- Can not coherently tie together relevant information\n",
    "- Incorporates nonsensical sentences\n",
    "- Summary is way too long\n",
    "\n",
    "On balance, the generated summaries of the CHAT-gpt article are OK, and provide some sense of the overall takeways text, but fail to cogently and coherently summarize the PubMed articles."
   ]
  },
  {
   "cell_type": "code",
   "execution_count": null,
   "id": "52151afe",
   "metadata": {},
   "outputs": [],
   "source": []
  }
 ],
 "metadata": {
  "kernelspec": {
   "display_name": "Python3 (default)",
   "language": "python",
   "name": "python3"
  },
  "language_info": {
   "codemirror_mode": {
    "name": "ipython",
    "version": 3
   },
   "file_extension": ".py",
   "mimetype": "text/x-python",
   "name": "python",
   "nbconvert_exporter": "python",
   "pygments_lexer": "ipython3",
   "version": "3.11.3"
  }
 },
 "nbformat": 4,
 "nbformat_minor": 5
}
